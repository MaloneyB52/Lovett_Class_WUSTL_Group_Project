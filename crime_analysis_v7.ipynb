{
 "cells": [
  {
   "cell_type": "markdown",
   "id": "1278c0d4",
   "metadata": {},
   "source": [
    "### Download data from AWS RDS to DataFrame"
   ]
  },
  {
   "cell_type": "code",
   "execution_count": 112,
   "id": "48445a2e",
   "metadata": {},
   "outputs": [],
   "source": [
    "# import dependencies\n",
    "\n",
    "import os\n",
    "import matplotlib.pyplot as plt\n",
    "import pandas as pd\n",
    "import seaborn as sns\n",
    "import sqlalchemy\n",
    "from sqlalchemy.ext.automap import automap_base\n",
    "from sqlalchemy.orm import Session\n",
    "from sqlalchemy import create_engine, func, inspect\n",
    "\n",
    "import plotly.express as px\n",
    "import hvplot.pandas\n",
    "from sklearn.cluster import KMeans\n",
    "from sklearn.metrics import mean_squared_error, r2_score"
   ]
  },
  {
   "cell_type": "code",
   "execution_count": 2,
   "id": "ee4d30c6",
   "metadata": {
    "scrolled": true
   },
   "outputs": [],
   "source": [
    "# Database engine to connect with AWS RDS\n",
    "\n",
    "dialect = 'postgresql'\n",
    "username = 'postgres'\n",
    "password = 'bootcamp2021'\n",
    "host = 'bootcamp-final-cln.ch1wrcuq3max.us-east-2.rds.amazonaws.com'\n",
    "database = 'crime'\n",
    "engine = create_engine(f'{dialect}://{username}:{password}@{host}/{database}')"
   ]
  },
  {
   "cell_type": "code",
   "execution_count": 3,
   "id": "1f3969be",
   "metadata": {},
   "outputs": [],
   "source": [
    "# upload additional tables\n",
    "\n",
    "# gdp_file = os.path.join('..', 'Data', 'GDP_by_State_2020.csv')\n",
    "# pd.read_csv(gdp_file).to_sql(name='gpd_by_state_2020', con=engine, if_exists='replace')\n",
    "\n",
    "# state_size_file = os.path.join('..', 'Data', 'Size_State.csv')\n",
    "# pd.read_csv(state_size_file).to_sql(name='state_size', con=engine, if_exists='replace')\n"
   ]
  },
  {
   "cell_type": "code",
   "execution_count": 4,
   "id": "b23028b3",
   "metadata": {},
   "outputs": [
    {
     "data": {
      "text/plain": [
       "['offense_cat_offender_race_2020',\n",
       " 'offense_cat_offender_sex_2020',\n",
       " 'offense_cat_type_2020',\n",
       " 'offense_cat_victim_age_2020',\n",
       " 'offense_cat_victim_race_2020',\n",
       " 'offense_cat_victim_sex_2020',\n",
       " 'state_pop_agencies_2020',\n",
       " 'gpd_by_state_2020',\n",
       " 'state_size',\n",
       " 'offense_cat_loc_2020',\n",
       " 'offense_cat_state_2020',\n",
       " 'law_enforcement_state_2020',\n",
       " 'law_enforcement_state_city_2020',\n",
       " 'offense_cat_offender_age_2020']"
      ]
     },
     "execution_count": 4,
     "metadata": {},
     "output_type": "execute_result"
    }
   ],
   "source": [
    "# list all the tables on the AWS RDS\n",
    "\n",
    "inspector = inspect(engine)\n",
    "inspector.get_table_names()"
   ]
  },
  {
   "cell_type": "code",
   "execution_count": 5,
   "id": "3794b266",
   "metadata": {},
   "outputs": [],
   "source": [
    "# download tables from AWS RDS\n",
    "\n",
    "with engine.connect() as conn:\n",
    "    crime_type_df = pd.read_sql(\"SELECT * FROM offense_cat_type_2020\", conn)\n",
    "    crime_df = pd.read_sql(\"SELECT * FROM offense_cat_state_2020\", conn)\n",
    "    law_enforcement_df = pd.read_sql(\"SELECT * FROM law_enforcement_state_2020\", conn)\n",
    "    gdp_df = pd.read_sql(\"SELECT * FROM gpd_by_state_2020\", conn)\n",
    "    state_size_df = pd.read_sql(\"SELECT * FROM state_size\", conn)"
   ]
  },
  {
   "cell_type": "markdown",
   "id": "6e3bf7dc",
   "metadata": {},
   "source": [
    "### Sum the number of crimes for each state and group by \"Offense_Type\". This DataFrame is displayed as a heatmap on the webpage."
   ]
  },
  {
   "cell_type": "code",
   "execution_count": 6,
   "id": "30f23e25",
   "metadata": {
    "scrolled": true
   },
   "outputs": [
    {
     "data": {
      "text/html": [
       "<div>\n",
       "<style scoped>\n",
       "    .dataframe tbody tr th:only-of-type {\n",
       "        vertical-align: middle;\n",
       "    }\n",
       "\n",
       "    .dataframe tbody tr th {\n",
       "        vertical-align: top;\n",
       "    }\n",
       "\n",
       "    .dataframe thead th {\n",
       "        text-align: right;\n",
       "    }\n",
       "</style>\n",
       "<table border=\"1\" class=\"dataframe\">\n",
       "  <thead>\n",
       "    <tr style=\"text-align: right;\">\n",
       "      <th></th>\n",
       "      <th>State</th>\n",
       "      <th>Offense_Category</th>\n",
       "      <th>Volume</th>\n",
       "      <th>Offense_Type</th>\n",
       "    </tr>\n",
       "  </thead>\n",
       "  <tbody>\n",
       "    <tr>\n",
       "      <th>0</th>\n",
       "      <td>Alabama</td>\n",
       "      <td>Assault</td>\n",
       "      <td>4214</td>\n",
       "      <td>Person</td>\n",
       "    </tr>\n",
       "    <tr>\n",
       "      <th>1</th>\n",
       "      <td>Alabama</td>\n",
       "      <td>Homicide</td>\n",
       "      <td>24</td>\n",
       "      <td>Person</td>\n",
       "    </tr>\n",
       "    <tr>\n",
       "      <th>2</th>\n",
       "      <td>Alabama</td>\n",
       "      <td>Human Trafficking</td>\n",
       "      <td>0</td>\n",
       "      <td>Person</td>\n",
       "    </tr>\n",
       "    <tr>\n",
       "      <th>3</th>\n",
       "      <td>Alabama</td>\n",
       "      <td>Kidnapping_Abduction</td>\n",
       "      <td>52</td>\n",
       "      <td>Person</td>\n",
       "    </tr>\n",
       "    <tr>\n",
       "      <th>4</th>\n",
       "      <td>Alabama</td>\n",
       "      <td>Sex</td>\n",
       "      <td>94</td>\n",
       "      <td>Person</td>\n",
       "    </tr>\n",
       "  </tbody>\n",
       "</table>\n",
       "</div>"
      ],
      "text/plain": [
       "     State      Offense_Category  Volume Offense_Type\n",
       "0  Alabama               Assault    4214       Person\n",
       "1  Alabama              Homicide      24       Person\n",
       "2  Alabama     Human Trafficking       0       Person\n",
       "3  Alabama  Kidnapping_Abduction      52       Person\n",
       "4  Alabama                   Sex      94       Person"
      ]
     },
     "execution_count": 6,
     "metadata": {},
     "output_type": "execute_result"
    }
   ],
   "source": [
    "# add a column of 'Offense_Type' to the crime_df\n",
    "\n",
    "for i in range(len(crime_df)):\n",
    "    for j in range(len(crime_type_df)):\n",
    "        if crime_df.loc[i, 'Offense_Category'] == crime_type_df.loc[j, 'Offense_Category']:\n",
    "            crime_df.loc[i, 'Offense_Type'] = crime_type_df.loc[j, 'Offense_Type']\n",
    "\n",
    "crime_df.head()"
   ]
  },
  {
   "cell_type": "code",
   "execution_count": 7,
   "id": "d65c114f",
   "metadata": {},
   "outputs": [
    {
     "data": {
      "text/plain": [
       "State               0\n",
       "Offense_Category    0\n",
       "Volume              0\n",
       "Offense_Type        0\n",
       "dtype: int64"
      ]
     },
     "execution_count": 7,
     "metadata": {},
     "output_type": "execute_result"
    }
   ],
   "source": [
    "# make sure no NaN\n",
    "\n",
    "crime_df.isna().sum()"
   ]
  },
  {
   "cell_type": "code",
   "execution_count": 8,
   "id": "b91d5ca5",
   "metadata": {
    "scrolled": true
   },
   "outputs": [
    {
     "data": {
      "text/html": [
       "<div>\n",
       "<style scoped>\n",
       "    .dataframe tbody tr th:only-of-type {\n",
       "        vertical-align: middle;\n",
       "    }\n",
       "\n",
       "    .dataframe tbody tr th {\n",
       "        vertical-align: top;\n",
       "    }\n",
       "\n",
       "    .dataframe thead th {\n",
       "        text-align: right;\n",
       "    }\n",
       "</style>\n",
       "<table border=\"1\" class=\"dataframe\">\n",
       "  <thead>\n",
       "    <tr style=\"text-align: right;\">\n",
       "      <th></th>\n",
       "      <th>Total_crimes</th>\n",
       "      <th>Crime_against_person</th>\n",
       "      <th>Crime_against_property</th>\n",
       "      <th>Crime_against_society</th>\n",
       "    </tr>\n",
       "    <tr>\n",
       "      <th>State</th>\n",
       "      <th></th>\n",
       "      <th></th>\n",
       "      <th></th>\n",
       "      <th></th>\n",
       "    </tr>\n",
       "  </thead>\n",
       "  <tbody>\n",
       "    <tr>\n",
       "      <th>Alabama</th>\n",
       "      <td>15600</td>\n",
       "      <td>4384</td>\n",
       "      <td>7981</td>\n",
       "      <td>3235</td>\n",
       "    </tr>\n",
       "    <tr>\n",
       "      <th>Arizona</th>\n",
       "      <td>83963</td>\n",
       "      <td>18440</td>\n",
       "      <td>47284</td>\n",
       "      <td>18239</td>\n",
       "    </tr>\n",
       "    <tr>\n",
       "      <th>Arkansas</th>\n",
       "      <td>235122</td>\n",
       "      <td>63893</td>\n",
       "      <td>135509</td>\n",
       "      <td>35720</td>\n",
       "    </tr>\n",
       "    <tr>\n",
       "      <th>Colorado</th>\n",
       "      <td>353126</td>\n",
       "      <td>64221</td>\n",
       "      <td>257623</td>\n",
       "      <td>31282</td>\n",
       "    </tr>\n",
       "    <tr>\n",
       "      <th>Connecticut</th>\n",
       "      <td>116810</td>\n",
       "      <td>27833</td>\n",
       "      <td>78197</td>\n",
       "      <td>10780</td>\n",
       "    </tr>\n",
       "  </tbody>\n",
       "</table>\n",
       "</div>"
      ],
      "text/plain": [
       "             Total_crimes  Crime_against_person  Crime_against_property  \\\n",
       "State                                                                     \n",
       "Alabama             15600                  4384                    7981   \n",
       "Arizona             83963                 18440                   47284   \n",
       "Arkansas           235122                 63893                  135509   \n",
       "Colorado           353126                 64221                  257623   \n",
       "Connecticut        116810                 27833                   78197   \n",
       "\n",
       "             Crime_against_society  \n",
       "State                               \n",
       "Alabama                       3235  \n",
       "Arizona                      18239  \n",
       "Arkansas                     35720  \n",
       "Colorado                     31282  \n",
       "Connecticut                  10780  "
      ]
     },
     "execution_count": 8,
     "metadata": {},
     "output_type": "execute_result"
    }
   ],
   "source": [
    "# group DataFrame by 'Offense_Type' and 'State'\n",
    "\n",
    "crime_by_state_df = pd.DataFrame()\n",
    "crime_by_state_df['Total_crimes'] = crime_df.groupby(['State']).sum()\n",
    "crime_by_state_df['Crime_against_person'] = crime_df[crime_df['Offense_Type']=='Person'].groupby(['State']).sum()\n",
    "crime_by_state_df['Crime_against_property'] = crime_df[crime_df['Offense_Type']=='Property'].groupby(['State']).sum()\n",
    "crime_by_state_df['Crime_against_society'] = crime_df[crime_df['Offense_Type']=='Society'].groupby(['State']).sum()\n",
    "crime_by_state_df.head()"
   ]
  },
  {
   "cell_type": "markdown",
   "id": "0779ff4f",
   "metadata": {},
   "source": [
    "## Pre-processing the dataset"
   ]
  },
  {
   "cell_type": "code",
   "execution_count": 9,
   "id": "a2fc8283",
   "metadata": {},
   "outputs": [],
   "source": [
    "# Convert data type of \"2020_Sum\" from string to int for the gdp_df dataframe\n",
    "\n",
    "if gdp_df['2020_Sum'].dtypes != 'int32':\n",
    "    gdp_df['2020_Sum'] = gdp_df['2020_Sum'].map(lambda x: float(''.join(x.split(',')))).astype(int)\n",
    "\n",
    "# Convert data type of \"State Area (Square Miles)\" from string to int for the state_size_df dataframe\n",
    "\n",
    "if state_size_df['State Area (Square Miles)'].dtypes != 'int32':\n",
    "    state_size_df['State Area (Square Miles)'] = state_size_df['State Area (Square Miles)'].map(lambda x: float(''.join(x.split(',')))).astype(int)"
   ]
  },
  {
   "cell_type": "code",
   "execution_count": 10,
   "id": "324198b8",
   "metadata": {},
   "outputs": [],
   "source": [
    "# merge the DataFrames based on \"State\"\n",
    "\n",
    "df = crime_by_state_df.merge(law_enforcement_df, how='inner', on='State')\\\n",
    "                      .merge(gdp_df, how='inner', on='State')\\\n",
    "                      .merge(state_size_df, how='inner', on='State')\n",
    "\n",
    "# rename 'Est_pop' to 'population'\n",
    "df['population'] = df['Est_pop']"
   ]
  },
  {
   "cell_type": "code",
   "execution_count": 11,
   "id": "4cb08202",
   "metadata": {
    "scrolled": true
   },
   "outputs": [
    {
     "data": {
      "text/html": [
       "<div>\n",
       "<style scoped>\n",
       "    .dataframe tbody tr th:only-of-type {\n",
       "        vertical-align: middle;\n",
       "    }\n",
       "\n",
       "    .dataframe tbody tr th {\n",
       "        vertical-align: top;\n",
       "    }\n",
       "\n",
       "    .dataframe thead th {\n",
       "        text-align: right;\n",
       "    }\n",
       "</style>\n",
       "<table border=\"1\" class=\"dataframe\">\n",
       "  <thead>\n",
       "    <tr style=\"text-align: right;\">\n",
       "      <th></th>\n",
       "      <th>State</th>\n",
       "      <th>Total_crimes</th>\n",
       "      <th>Crime_against_person</th>\n",
       "      <th>Crime_against_property</th>\n",
       "      <th>Crime_against_society</th>\n",
       "      <th>Total_law_ employees</th>\n",
       "      <th>male_officers</th>\n",
       "      <th>female_officers</th>\n",
       "      <th>male_civilians</th>\n",
       "      <th>female_civilians</th>\n",
       "      <th>...</th>\n",
       "      <th>population</th>\n",
       "      <th>total_crimes_per_capita</th>\n",
       "      <th>person_crimes_per_capita</th>\n",
       "      <th>property_crimes_per_capita</th>\n",
       "      <th>society_crimes_per_capita</th>\n",
       "      <th>total_law_per_capita</th>\n",
       "      <th>male_officers_per_capita</th>\n",
       "      <th>female_officers_per_capita</th>\n",
       "      <th>gdp_per_capita</th>\n",
       "      <th>state_size_per_capita</th>\n",
       "    </tr>\n",
       "  </thead>\n",
       "  <tbody>\n",
       "    <tr>\n",
       "      <th>0</th>\n",
       "      <td>Alabama</td>\n",
       "      <td>15600</td>\n",
       "      <td>4384</td>\n",
       "      <td>7981</td>\n",
       "      <td>3235</td>\n",
       "      <td>17985</td>\n",
       "      <td>11203</td>\n",
       "      <td>1014</td>\n",
       "      <td>2003</td>\n",
       "      <td>3765</td>\n",
       "      <td>...</td>\n",
       "      <td>4851203</td>\n",
       "      <td>0.003216</td>\n",
       "      <td>0.000904</td>\n",
       "      <td>0.001645</td>\n",
       "      <td>0.000667</td>\n",
       "      <td>0.003707</td>\n",
       "      <td>0.002309</td>\n",
       "      <td>0.000209</td>\n",
       "      <td>0.187085</td>\n",
       "      <td>0.010461</td>\n",
       "    </tr>\n",
       "    <tr>\n",
       "      <th>1</th>\n",
       "      <td>Arizona</td>\n",
       "      <td>83963</td>\n",
       "      <td>18440</td>\n",
       "      <td>47284</td>\n",
       "      <td>18239</td>\n",
       "      <td>22526</td>\n",
       "      <td>11308</td>\n",
       "      <td>1450</td>\n",
       "      <td>4485</td>\n",
       "      <td>5283</td>\n",
       "      <td>...</td>\n",
       "      <td>7359580</td>\n",
       "      <td>0.011409</td>\n",
       "      <td>0.002506</td>\n",
       "      <td>0.006425</td>\n",
       "      <td>0.002478</td>\n",
       "      <td>0.003061</td>\n",
       "      <td>0.001537</td>\n",
       "      <td>0.000197</td>\n",
       "      <td>0.203120</td>\n",
       "      <td>0.015441</td>\n",
       "    </tr>\n",
       "    <tr>\n",
       "      <th>2</th>\n",
       "      <td>Arkansas</td>\n",
       "      <td>235122</td>\n",
       "      <td>63893</td>\n",
       "      <td>135509</td>\n",
       "      <td>35720</td>\n",
       "      <td>10442</td>\n",
       "      <td>6087</td>\n",
       "      <td>724</td>\n",
       "      <td>1375</td>\n",
       "      <td>2256</td>\n",
       "      <td>...</td>\n",
       "      <td>3011972</td>\n",
       "      <td>0.078062</td>\n",
       "      <td>0.021213</td>\n",
       "      <td>0.044990</td>\n",
       "      <td>0.011859</td>\n",
       "      <td>0.003467</td>\n",
       "      <td>0.002021</td>\n",
       "      <td>0.000240</td>\n",
       "      <td>0.173641</td>\n",
       "      <td>0.017289</td>\n",
       "    </tr>\n",
       "    <tr>\n",
       "      <th>3</th>\n",
       "      <td>Colorado</td>\n",
       "      <td>353126</td>\n",
       "      <td>64221</td>\n",
       "      <td>257623</td>\n",
       "      <td>31282</td>\n",
       "      <td>18853</td>\n",
       "      <td>10801</td>\n",
       "      <td>1885</td>\n",
       "      <td>2260</td>\n",
       "      <td>3907</td>\n",
       "      <td>...</td>\n",
       "      <td>5753378</td>\n",
       "      <td>0.061377</td>\n",
       "      <td>0.011162</td>\n",
       "      <td>0.044778</td>\n",
       "      <td>0.005437</td>\n",
       "      <td>0.003277</td>\n",
       "      <td>0.001877</td>\n",
       "      <td>0.000328</td>\n",
       "      <td>0.265989</td>\n",
       "      <td>0.018029</td>\n",
       "    </tr>\n",
       "    <tr>\n",
       "      <th>4</th>\n",
       "      <td>Connecticut</td>\n",
       "      <td>116810</td>\n",
       "      <td>27833</td>\n",
       "      <td>78197</td>\n",
       "      <td>10780</td>\n",
       "      <td>9163</td>\n",
       "      <td>6814</td>\n",
       "      <td>892</td>\n",
       "      <td>595</td>\n",
       "      <td>862</td>\n",
       "      <td>...</td>\n",
       "      <td>3557006</td>\n",
       "      <td>0.032839</td>\n",
       "      <td>0.007825</td>\n",
       "      <td>0.021984</td>\n",
       "      <td>0.003031</td>\n",
       "      <td>0.002576</td>\n",
       "      <td>0.001916</td>\n",
       "      <td>0.000251</td>\n",
       "      <td>0.310849</td>\n",
       "      <td>0.001362</td>\n",
       "    </tr>\n",
       "  </tbody>\n",
       "</table>\n",
       "<p>5 rows × 30 columns</p>\n",
       "</div>"
      ],
      "text/plain": [
       "         State  Total_crimes  Crime_against_person  Crime_against_property  \\\n",
       "0      Alabama         15600                  4384                    7981   \n",
       "1      Arizona         83963                 18440                   47284   \n",
       "2     Arkansas        235122                 63893                  135509   \n",
       "3     Colorado        353126                 64221                  257623   \n",
       "4  Connecticut        116810                 27833                   78197   \n",
       "\n",
       "   Crime_against_society  Total_law_ employees  male_officers  \\\n",
       "0                   3235                 17985          11203   \n",
       "1                  18239                 22526          11308   \n",
       "2                  35720                 10442           6087   \n",
       "3                  31282                 18853          10801   \n",
       "4                  10780                  9163           6814   \n",
       "\n",
       "   female_officers  male_civilians  female_civilians  ...  population  \\\n",
       "0             1014            2003              3765  ...     4851203   \n",
       "1             1450            4485              5283  ...     7359580   \n",
       "2              724            1375              2256  ...     3011972   \n",
       "3             1885            2260              3907  ...     5753378   \n",
       "4              892             595               862  ...     3557006   \n",
       "\n",
       "   total_crimes_per_capita  person_crimes_per_capita  \\\n",
       "0                 0.003216                  0.000904   \n",
       "1                 0.011409                  0.002506   \n",
       "2                 0.078062                  0.021213   \n",
       "3                 0.061377                  0.011162   \n",
       "4                 0.032839                  0.007825   \n",
       "\n",
       "  property_crimes_per_capita society_crimes_per_capita total_law_per_capita  \\\n",
       "0                   0.001645                  0.000667             0.003707   \n",
       "1                   0.006425                  0.002478             0.003061   \n",
       "2                   0.044990                  0.011859             0.003467   \n",
       "3                   0.044778                  0.005437             0.003277   \n",
       "4                   0.021984                  0.003031             0.002576   \n",
       "\n",
       "  male_officers_per_capita  female_officers_per_capita  gdp_per_capita  \\\n",
       "0                 0.002309                    0.000209        0.187085   \n",
       "1                 0.001537                    0.000197        0.203120   \n",
       "2                 0.002021                    0.000240        0.173641   \n",
       "3                 0.001877                    0.000328        0.265989   \n",
       "4                 0.001916                    0.000251        0.310849   \n",
       "\n",
       "   state_size_per_capita  \n",
       "0               0.010461  \n",
       "1               0.015441  \n",
       "2               0.017289  \n",
       "3               0.018029  \n",
       "4               0.001362  \n",
       "\n",
       "[5 rows x 30 columns]"
      ]
     },
     "execution_count": 11,
     "metadata": {},
     "output_type": "execute_result"
    }
   ],
   "source": [
    "# Normalize features of interest based on the state's population and add new features\n",
    "\n",
    "df['total_crimes_per_capita'] = df['Total_crimes'] / df['population']\n",
    "df['person_crimes_per_capita'] = df['Crime_against_person'] / df['population']\n",
    "df['property_crimes_per_capita'] = df['Crime_against_property'] / df['population']\n",
    "df['society_crimes_per_capita'] = df['Crime_against_society'] / df['population']\n",
    "df['total_law_per_capita'] = df['Total_law_ employees'] / df['population']\n",
    "df['male_officers_per_capita'] = df['male_officers'] / df['population']\n",
    "df['female_officers_per_capita'] = df['female_officers'] / df['population']\n",
    "df['gdp_per_capita'] = df['2020_Sum'] / df['population']\n",
    "df['state_size_per_capita'] = df['State Area (Square Miles)'] / df['population']\n",
    "\n",
    "df.head()"
   ]
  },
  {
   "cell_type": "markdown",
   "id": "9e02a442",
   "metadata": {},
   "source": [
    "### Create dataset of input features and scale it"
   ]
  },
  {
   "cell_type": "code",
   "execution_count": 136,
   "id": "c733cb97",
   "metadata": {},
   "outputs": [
    {
     "data": {
      "text/html": [
       "<div>\n",
       "<style scoped>\n",
       "    .dataframe tbody tr th:only-of-type {\n",
       "        vertical-align: middle;\n",
       "    }\n",
       "\n",
       "    .dataframe tbody tr th {\n",
       "        vertical-align: top;\n",
       "    }\n",
       "\n",
       "    .dataframe thead th {\n",
       "        text-align: right;\n",
       "    }\n",
       "</style>\n",
       "<table border=\"1\" class=\"dataframe\">\n",
       "  <thead>\n",
       "    <tr style=\"text-align: right;\">\n",
       "      <th></th>\n",
       "      <th>total_law_per_capita</th>\n",
       "      <th>gdp_per_capita</th>\n",
       "      <th>state_size_per_capita</th>\n",
       "    </tr>\n",
       "  </thead>\n",
       "  <tbody>\n",
       "    <tr>\n",
       "      <th>0</th>\n",
       "      <td>0.003707</td>\n",
       "      <td>0.187085</td>\n",
       "      <td>0.010461</td>\n",
       "    </tr>\n",
       "    <tr>\n",
       "      <th>1</th>\n",
       "      <td>0.003061</td>\n",
       "      <td>0.203120</td>\n",
       "      <td>0.015441</td>\n",
       "    </tr>\n",
       "    <tr>\n",
       "      <th>2</th>\n",
       "      <td>0.003467</td>\n",
       "      <td>0.173641</td>\n",
       "      <td>0.017289</td>\n",
       "    </tr>\n",
       "    <tr>\n",
       "      <th>3</th>\n",
       "      <td>0.003277</td>\n",
       "      <td>0.265989</td>\n",
       "      <td>0.018029</td>\n",
       "    </tr>\n",
       "    <tr>\n",
       "      <th>4</th>\n",
       "      <td>0.002576</td>\n",
       "      <td>0.310849</td>\n",
       "      <td>0.001362</td>\n",
       "    </tr>\n",
       "  </tbody>\n",
       "</table>\n",
       "</div>"
      ],
      "text/plain": [
       "   total_law_per_capita  gdp_per_capita  state_size_per_capita\n",
       "0              0.003707        0.187085               0.010461\n",
       "1              0.003061        0.203120               0.015441\n",
       "2              0.003467        0.173641               0.017289\n",
       "3              0.003277        0.265989               0.018029\n",
       "4              0.002576        0.310849               0.001362"
      ]
     },
     "execution_count": 136,
     "metadata": {},
     "output_type": "execute_result"
    }
   ],
   "source": [
    "# select features of interest as input features\n",
    "\n",
    "input_columns = [ #'State',\n",
    "#                     'population',\n",
    "#                     'total_crimes_per_capita',\n",
    "#                     'person_crimes_per_capita',\n",
    "#                     'property_crimes_per_capita',\n",
    "#                     'society_crimes_per_capita',\n",
    "                    'total_law_per_capita',\n",
    "#                     'male_officers_per_capita',\n",
    "#                     'female_officers_per_capita',\n",
    "                    'gdp_per_capita',\n",
    "                    'state_size_per_capita']\n",
    "\n",
    "X_df = df[input_columns]\n",
    "X_df.head()"
   ]
  },
  {
   "cell_type": "code",
   "execution_count": 137,
   "id": "04b83f9f",
   "metadata": {},
   "outputs": [
    {
     "data": {
      "text/html": [
       "<div>\n",
       "<style scoped>\n",
       "    .dataframe tbody tr th:only-of-type {\n",
       "        vertical-align: middle;\n",
       "    }\n",
       "\n",
       "    .dataframe tbody tr th {\n",
       "        vertical-align: top;\n",
       "    }\n",
       "\n",
       "    .dataframe thead th {\n",
       "        text-align: right;\n",
       "    }\n",
       "</style>\n",
       "<table border=\"1\" class=\"dataframe\">\n",
       "  <thead>\n",
       "    <tr style=\"text-align: right;\">\n",
       "      <th></th>\n",
       "      <th>total_law_per_capita</th>\n",
       "      <th>gdp_per_capita</th>\n",
       "      <th>state_size_per_capita</th>\n",
       "    </tr>\n",
       "  </thead>\n",
       "  <tbody>\n",
       "    <tr>\n",
       "      <th>0</th>\n",
       "      <td>0.764296</td>\n",
       "      <td>-0.770739</td>\n",
       "      <td>-0.361006</td>\n",
       "    </tr>\n",
       "    <tr>\n",
       "      <th>1</th>\n",
       "      <td>-0.258809</td>\n",
       "      <td>-0.638485</td>\n",
       "      <td>-0.262234</td>\n",
       "    </tr>\n",
       "    <tr>\n",
       "      <th>2</th>\n",
       "      <td>0.383736</td>\n",
       "      <td>-0.881620</td>\n",
       "      <td>-0.225582</td>\n",
       "    </tr>\n",
       "    <tr>\n",
       "      <th>3</th>\n",
       "      <td>0.083123</td>\n",
       "      <td>-0.119941</td>\n",
       "      <td>-0.210904</td>\n",
       "    </tr>\n",
       "    <tr>\n",
       "      <th>4</th>\n",
       "      <td>-1.025842</td>\n",
       "      <td>0.250055</td>\n",
       "      <td>-0.541476</td>\n",
       "    </tr>\n",
       "  </tbody>\n",
       "</table>\n",
       "</div>"
      ],
      "text/plain": [
       "   total_law_per_capita  gdp_per_capita  state_size_per_capita\n",
       "0              0.764296       -0.770739              -0.361006\n",
       "1             -0.258809       -0.638485              -0.262234\n",
       "2              0.383736       -0.881620              -0.225582\n",
       "3              0.083123       -0.119941              -0.210904\n",
       "4             -1.025842        0.250055              -0.541476"
      ]
     },
     "execution_count": 137,
     "metadata": {},
     "output_type": "execute_result"
    }
   ],
   "source": [
    "# apply scaler\n",
    "\n",
    "from sklearn.preprocessing import StandardScaler\n",
    "\n",
    "# Create scaler instance\n",
    "X_scaler = StandardScaler()\n",
    "\n",
    "# Fit the scaler\n",
    "X_scaler.fit(X_df)\n",
    "\n",
    "# Scale the data\n",
    "scaled_X = X_scaler.transform(X_df)\n",
    "\n",
    "scaled_X_df = pd.DataFrame(scaled_X, columns=input_columns)\n",
    "\n",
    "scaled_X_df.head()"
   ]
  },
  {
   "cell_type": "markdown",
   "id": "e5b05574",
   "metadata": {},
   "source": [
    "### Select target and combine with scaled_X for clustering analysis"
   ]
  },
  {
   "cell_type": "code",
   "execution_count": 138,
   "id": "66c09a58",
   "metadata": {},
   "outputs": [
    {
     "data": {
      "text/html": [
       "<div>\n",
       "<style scoped>\n",
       "    .dataframe tbody tr th:only-of-type {\n",
       "        vertical-align: middle;\n",
       "    }\n",
       "\n",
       "    .dataframe tbody tr th {\n",
       "        vertical-align: top;\n",
       "    }\n",
       "\n",
       "    .dataframe thead th {\n",
       "        text-align: right;\n",
       "    }\n",
       "</style>\n",
       "<table border=\"1\" class=\"dataframe\">\n",
       "  <thead>\n",
       "    <tr style=\"text-align: right;\">\n",
       "      <th></th>\n",
       "      <th>total_law_per_capita</th>\n",
       "      <th>gdp_per_capita</th>\n",
       "      <th>state_size_per_capita</th>\n",
       "      <th>target</th>\n",
       "    </tr>\n",
       "  </thead>\n",
       "  <tbody>\n",
       "    <tr>\n",
       "      <th>0</th>\n",
       "      <td>0.764296</td>\n",
       "      <td>-0.770739</td>\n",
       "      <td>-0.361006</td>\n",
       "      <td>0.003216</td>\n",
       "    </tr>\n",
       "    <tr>\n",
       "      <th>1</th>\n",
       "      <td>-0.258809</td>\n",
       "      <td>-0.638485</td>\n",
       "      <td>-0.262234</td>\n",
       "      <td>0.011409</td>\n",
       "    </tr>\n",
       "    <tr>\n",
       "      <th>2</th>\n",
       "      <td>0.383736</td>\n",
       "      <td>-0.881620</td>\n",
       "      <td>-0.225582</td>\n",
       "      <td>0.078062</td>\n",
       "    </tr>\n",
       "    <tr>\n",
       "      <th>3</th>\n",
       "      <td>0.083123</td>\n",
       "      <td>-0.119941</td>\n",
       "      <td>-0.210904</td>\n",
       "      <td>0.061377</td>\n",
       "    </tr>\n",
       "    <tr>\n",
       "      <th>4</th>\n",
       "      <td>-1.025842</td>\n",
       "      <td>0.250055</td>\n",
       "      <td>-0.541476</td>\n",
       "      <td>0.032839</td>\n",
       "    </tr>\n",
       "  </tbody>\n",
       "</table>\n",
       "</div>"
      ],
      "text/plain": [
       "   total_law_per_capita  gdp_per_capita  state_size_per_capita    target\n",
       "0              0.764296       -0.770739              -0.361006  0.003216\n",
       "1             -0.258809       -0.638485              -0.262234  0.011409\n",
       "2              0.383736       -0.881620              -0.225582  0.078062\n",
       "3              0.083123       -0.119941              -0.210904  0.061377\n",
       "4             -1.025842        0.250055              -0.541476  0.032839"
      ]
     },
     "execution_count": 138,
     "metadata": {},
     "output_type": "execute_result"
    }
   ],
   "source": [
    "target_column = 'total_crimes_per_capita'\n",
    "\n",
    "y_df = pd.DataFrame(df[target_column])\n",
    "y_df.rename({target_column: 'target'}, axis=1, inplace=True)\n",
    "cluster_df = scaled_X_df.merge(y_df, left_index=True, right_index=True)\n",
    "cluster_df.head()\n",
    "# y_df"
   ]
  },
  {
   "cell_type": "markdown",
   "id": "3c29f75e",
   "metadata": {},
   "source": [
    "### Determine clusters using K-Means"
   ]
  },
  {
   "cell_type": "code",
   "execution_count": 139,
   "id": "64ffa0f2",
   "metadata": {
    "scrolled": true
   },
   "outputs": [
    {
     "name": "stderr",
     "output_type": "stream",
     "text": [
      "C:\\Users\\alexi\\.conda\\envs\\mlenv\\lib\\site-packages\\sklearn\\cluster\\_kmeans.py:1037: UserWarning:\n",
      "\n",
      "KMeans is known to have a memory leak on Windows with MKL, when there are less chunks than available threads. You can avoid it by setting the environment variable OMP_NUM_THREADS=1.\n",
      "\n"
     ]
    },
    {
     "data": {},
     "metadata": {},
     "output_type": "display_data"
    },
    {
     "data": {
      "application/vnd.holoviews_exec.v0+json": "",
      "text/html": [
       "<div id='1710'>\n",
       "\n",
       "\n",
       "\n",
       "\n",
       "\n",
       "  <div class=\"bk-root\" id=\"db9c985b-14e9-4a6a-99fc-184f50d9566a\" data-root-id=\"1710\"></div>\n",
       "</div>\n",
       "<script type=\"application/javascript\">(function(root) {\n",
       "  function embed_document(root) {\n",
       "    var docs_json = {\"30234cba-dda7-4ac1-9498-b4cc230cce5c\":{\"defs\":[{\"extends\":null,\"module\":null,\"name\":\"ReactiveHTML1\",\"overrides\":[],\"properties\":[]},{\"extends\":null,\"module\":null,\"name\":\"FlexBox1\",\"overrides\":[],\"properties\":[{\"default\":\"flex-start\",\"kind\":null,\"name\":\"align_content\"},{\"default\":\"flex-start\",\"kind\":null,\"name\":\"align_items\"},{\"default\":\"row\",\"kind\":null,\"name\":\"flex_direction\"},{\"default\":\"wrap\",\"kind\":null,\"name\":\"flex_wrap\"},{\"default\":\"flex-start\",\"kind\":null,\"name\":\"justify_content\"}]},{\"extends\":null,\"module\":null,\"name\":\"TemplateActions1\",\"overrides\":[],\"properties\":[{\"default\":0,\"kind\":null,\"name\":\"open_modal\"},{\"default\":0,\"kind\":null,\"name\":\"close_modal\"}]},{\"extends\":null,\"module\":null,\"name\":\"MaterialTemplateActions1\",\"overrides\":[],\"properties\":[{\"default\":0,\"kind\":null,\"name\":\"open_modal\"},{\"default\":0,\"kind\":null,\"name\":\"close_modal\"}]}],\"roots\":{\"references\":[{\"attributes\":{},\"id\":\"1734\",\"type\":\"WheelZoomTool\"},{\"attributes\":{},\"id\":\"1757\",\"type\":\"AllLabels\"},{\"attributes\":{\"axis\":{\"id\":\"1724\"},\"coordinates\":null,\"grid_line_color\":null,\"group\":null,\"ticker\":null},\"id\":\"1727\",\"type\":\"Grid\"},{\"attributes\":{\"children\":[{\"id\":\"1711\"},{\"id\":\"1715\"},{\"id\":\"1781\"}],\"margin\":[0,0,0,0],\"name\":\"Row02695\",\"tags\":[\"embedded\"]},\"id\":\"1710\",\"type\":\"Row\"},{\"attributes\":{\"axis_label\":\"k\",\"coordinates\":null,\"formatter\":{\"id\":\"1756\"},\"group\":null,\"major_label_policy\":{\"id\":\"1757\"},\"ticker\":{\"id\":\"1754\"}},\"id\":\"1724\",\"type\":\"LinearAxis\"},{\"attributes\":{},\"id\":\"1756\",\"type\":\"BasicTickFormatter\"},{\"attributes\":{},\"id\":\"1762\",\"type\":\"AllLabels\"},{\"attributes\":{},\"id\":\"1729\",\"type\":\"BasicTicker\"},{\"attributes\":{},\"id\":\"1769\",\"type\":\"UnionRenderers\"},{\"attributes\":{},\"id\":\"1746\",\"type\":\"Selection\"},{\"attributes\":{\"axis\":{\"id\":\"1728\"},\"coordinates\":null,\"dimension\":1,\"grid_line_color\":null,\"group\":null,\"ticker\":null},\"id\":\"1731\",\"type\":\"Grid\"},{\"attributes\":{},\"id\":\"1722\",\"type\":\"LinearScale\"},{\"attributes\":{\"axis_label\":\"inertia\",\"coordinates\":null,\"formatter\":{\"id\":\"1761\"},\"group\":null,\"major_label_policy\":{\"id\":\"1762\"},\"ticker\":{\"id\":\"1729\"}},\"id\":\"1728\",\"type\":\"LinearAxis\"},{\"attributes\":{\"line_alpha\":0.1,\"line_color\":\"#30a2da\",\"line_width\":2,\"x\":{\"field\":\"k\"},\"y\":{\"field\":\"inertia\"}},\"id\":\"1749\",\"type\":\"Line\"},{\"attributes\":{},\"id\":\"1736\",\"type\":\"ResetTool\"},{\"attributes\":{\"ticks\":[1,2,3,4,5,6,7,8,9,10]},\"id\":\"1754\",\"type\":\"FixedTicker\"},{\"attributes\":{\"margin\":[5,5,5,5],\"name\":\"HSpacer02699\",\"sizing_mode\":\"stretch_width\"},\"id\":\"1711\",\"type\":\"Spacer\"},{\"attributes\":{},\"id\":\"1732\",\"type\":\"SaveTool\"},{\"attributes\":{},\"id\":\"1733\",\"type\":\"PanTool\"},{\"attributes\":{\"bottom_units\":\"screen\",\"coordinates\":null,\"fill_alpha\":0.5,\"fill_color\":\"lightgrey\",\"group\":null,\"left_units\":\"screen\",\"level\":\"overlay\",\"line_alpha\":1.0,\"line_color\":\"black\",\"line_dash\":[4,4],\"line_width\":2,\"right_units\":\"screen\",\"syncable\":false,\"top_units\":\"screen\"},\"id\":\"1737\",\"type\":\"BoxAnnotation\"},{\"attributes\":{\"line_alpha\":0.2,\"line_color\":\"#30a2da\",\"line_width\":2,\"x\":{\"field\":\"k\"},\"y\":{\"field\":\"inertia\"}},\"id\":\"1750\",\"type\":\"Line\"},{\"attributes\":{\"coordinates\":null,\"group\":null,\"text\":\"Elbow Curve\",\"text_color\":\"black\",\"text_font_size\":\"12pt\"},\"id\":\"1716\",\"type\":\"Title\"},{\"attributes\":{\"coordinates\":null,\"data_source\":{\"id\":\"1745\"},\"glyph\":{\"id\":\"1748\"},\"group\":null,\"hover_glyph\":null,\"muted_glyph\":{\"id\":\"1750\"},\"nonselection_glyph\":{\"id\":\"1749\"},\"selection_glyph\":{\"id\":\"1753\"},\"view\":{\"id\":\"1752\"}},\"id\":\"1751\",\"type\":\"GlyphRenderer\"},{\"attributes\":{\"below\":[{\"id\":\"1724\"}],\"center\":[{\"id\":\"1727\"},{\"id\":\"1731\"}],\"height\":300,\"left\":[{\"id\":\"1728\"}],\"margin\":[5,5,5,5],\"min_border_bottom\":10,\"min_border_left\":10,\"min_border_right\":10,\"min_border_top\":10,\"renderers\":[{\"id\":\"1751\"}],\"sizing_mode\":\"fixed\",\"title\":{\"id\":\"1716\"},\"toolbar\":{\"id\":\"1738\"},\"width\":700,\"x_range\":{\"id\":\"1712\"},\"x_scale\":{\"id\":\"1720\"},\"y_range\":{\"id\":\"1713\"},\"y_scale\":{\"id\":\"1722\"}},\"id\":\"1715\",\"subtype\":\"Figure\",\"type\":\"Plot\"},{\"attributes\":{\"source\":{\"id\":\"1745\"}},\"id\":\"1752\",\"type\":\"CDSView\"},{\"attributes\":{\"margin\":[5,5,5,5],\"name\":\"HSpacer02700\",\"sizing_mode\":\"stretch_width\"},\"id\":\"1781\",\"type\":\"Spacer\"},{\"attributes\":{\"end\":10.0,\"reset_end\":10.0,\"reset_start\":1.0,\"start\":1.0,\"tags\":[[[\"k\",\"k\",null]]]},\"id\":\"1712\",\"type\":\"Range1d\"},{\"attributes\":{\"overlay\":{\"id\":\"1737\"}},\"id\":\"1735\",\"type\":\"BoxZoomTool\"},{\"attributes\":{\"line_color\":\"#30a2da\",\"line_width\":2,\"x\":{\"field\":\"k\"},\"y\":{\"field\":\"inertia\"}},\"id\":\"1753\",\"type\":\"Line\"},{\"attributes\":{\"end\":151.00734765706187,\"reset_end\":151.00734765706187,\"reset_start\":-4.421058209313367,\"start\":-4.421058209313367,\"tags\":[[[\"inertia\",\"inertia\",null]]]},\"id\":\"1713\",\"type\":\"Range1d\"},{\"attributes\":{\"line_color\":\"#30a2da\",\"line_width\":2,\"x\":{\"field\":\"k\"},\"y\":{\"field\":\"inertia\"}},\"id\":\"1748\",\"type\":\"Line\"},{\"attributes\":{\"data\":{\"inertia\":{\"__ndarray__\":\"u/93ZsJBYUD2Mjbui1tVQJbzRmZqykpA0nZbTfmAQ0Awyx18aNg6QGyB8BbH4zRAecNsf3q2LkAISVL+TtsnQEI1Ia2FuSNA/yfouQcQIUA=\",\"dtype\":\"float64\",\"order\":\"little\",\"shape\":[10]},\"k\":[1,2,3,4,5,6,7,8,9,10]},\"selected\":{\"id\":\"1746\"},\"selection_policy\":{\"id\":\"1769\"}},\"id\":\"1745\",\"type\":\"ColumnDataSource\"},{\"attributes\":{\"callback\":null,\"renderers\":[{\"id\":\"1751\"}],\"tags\":[\"hv_created\"],\"tooltips\":[[\"k\",\"@{k}\"],[\"inertia\",\"@{inertia}\"]]},\"id\":\"1714\",\"type\":\"HoverTool\"},{\"attributes\":{},\"id\":\"1761\",\"type\":\"BasicTickFormatter\"},{\"attributes\":{},\"id\":\"1720\",\"type\":\"LinearScale\"},{\"attributes\":{\"tools\":[{\"id\":\"1714\"},{\"id\":\"1732\"},{\"id\":\"1733\"},{\"id\":\"1734\"},{\"id\":\"1735\"},{\"id\":\"1736\"}]},\"id\":\"1738\",\"type\":\"Toolbar\"}],\"root_ids\":[\"1710\"]},\"title\":\"Bokeh Application\",\"version\":\"2.4.1\"}};\n",
       "    var render_items = [{\"docid\":\"30234cba-dda7-4ac1-9498-b4cc230cce5c\",\"root_ids\":[\"1710\"],\"roots\":{\"1710\":\"db9c985b-14e9-4a6a-99fc-184f50d9566a\"}}];\n",
       "    root.Bokeh.embed.embed_items_notebook(docs_json, render_items);\n",
       "  }\n",
       "  if (root.Bokeh !== undefined && root.Bokeh.Panel !== undefined) {\n",
       "    embed_document(root);\n",
       "  } else {\n",
       "    var attempts = 0;\n",
       "    var timer = setInterval(function(root) {\n",
       "      if (root.Bokeh !== undefined && root.Bokeh.Panel !== undefined) {\n",
       "        clearInterval(timer);\n",
       "        embed_document(root);\n",
       "      } else if (document.readyState == \"complete\") {\n",
       "        attempts++;\n",
       "        if (attempts > 200) {\n",
       "          clearInterval(timer);\n",
       "          console.log(\"Bokeh: ERROR: Unable to run BokehJS code because BokehJS library is missing\");\n",
       "        }\n",
       "      }\n",
       "    }, 25, root)\n",
       "  }\n",
       "})(window);</script>"
      ],
      "text/plain": [
       ":Curve   [k]   (inertia)"
      ]
     },
     "execution_count": 139,
     "metadata": {
      "application/vnd.holoviews_exec.v0+json": {
       "id": "1710"
      }
     },
     "output_type": "execute_result"
    }
   ],
   "source": [
    "# Elbow Curve\n",
    "\n",
    "inertia = []\n",
    "k = list(range(1, 11))\n",
    "\n",
    "# Looking for the best K\n",
    "for i in k:\n",
    "    km = KMeans(n_clusters=i, random_state=0)\n",
    "    km.fit(cluster_df)\n",
    "    inertia.append(km.inertia_)\n",
    "\n",
    "# Define a DataFrame to plot the Elbow Curve using hvPlot\n",
    "elbow_data = {\"k\": k, \"inertia\": inertia}\n",
    "df_elbow = pd.DataFrame(elbow_data)\n",
    "df_elbow.hvplot.line(x=\"k\", y=\"inertia\", title=\"Elbow Curve\", xticks=k)"
   ]
  },
  {
   "cell_type": "markdown",
   "id": "b7314589",
   "metadata": {},
   "source": [
    "### Elbow curve suggests the number of clusters"
   ]
  },
  {
   "cell_type": "code",
   "execution_count": 151,
   "id": "c55ef71e",
   "metadata": {},
   "outputs": [],
   "source": [
    "n_cluster = 5"
   ]
  },
  {
   "cell_type": "code",
   "execution_count": 152,
   "id": "96531e08",
   "metadata": {},
   "outputs": [
    {
     "data": {
      "text/html": [
       "<div>\n",
       "<style scoped>\n",
       "    .dataframe tbody tr th:only-of-type {\n",
       "        vertical-align: middle;\n",
       "    }\n",
       "\n",
       "    .dataframe tbody tr th {\n",
       "        vertical-align: top;\n",
       "    }\n",
       "\n",
       "    .dataframe thead th {\n",
       "        text-align: right;\n",
       "    }\n",
       "</style>\n",
       "<table border=\"1\" class=\"dataframe\">\n",
       "  <thead>\n",
       "    <tr style=\"text-align: right;\">\n",
       "      <th></th>\n",
       "      <th>total_law_per_capita</th>\n",
       "      <th>gdp_per_capita</th>\n",
       "      <th>state_size_per_capita</th>\n",
       "      <th>target</th>\n",
       "      <th>class</th>\n",
       "    </tr>\n",
       "  </thead>\n",
       "  <tbody>\n",
       "    <tr>\n",
       "      <th>0</th>\n",
       "      <td>0.764296</td>\n",
       "      <td>-0.770739</td>\n",
       "      <td>-0.361006</td>\n",
       "      <td>0.003216</td>\n",
       "      <td>0</td>\n",
       "    </tr>\n",
       "    <tr>\n",
       "      <th>1</th>\n",
       "      <td>-0.258809</td>\n",
       "      <td>-0.638485</td>\n",
       "      <td>-0.262234</td>\n",
       "      <td>0.011409</td>\n",
       "      <td>1</td>\n",
       "    </tr>\n",
       "    <tr>\n",
       "      <th>2</th>\n",
       "      <td>0.383736</td>\n",
       "      <td>-0.881620</td>\n",
       "      <td>-0.225582</td>\n",
       "      <td>0.078062</td>\n",
       "      <td>0</td>\n",
       "    </tr>\n",
       "    <tr>\n",
       "      <th>3</th>\n",
       "      <td>0.083123</td>\n",
       "      <td>-0.119941</td>\n",
       "      <td>-0.210904</td>\n",
       "      <td>0.061377</td>\n",
       "      <td>0</td>\n",
       "    </tr>\n",
       "    <tr>\n",
       "      <th>4</th>\n",
       "      <td>-1.025842</td>\n",
       "      <td>0.250055</td>\n",
       "      <td>-0.541476</td>\n",
       "      <td>0.032839</td>\n",
       "      <td>1</td>\n",
       "    </tr>\n",
       "  </tbody>\n",
       "</table>\n",
       "</div>"
      ],
      "text/plain": [
       "   total_law_per_capita  gdp_per_capita  state_size_per_capita    target  \\\n",
       "0              0.764296       -0.770739              -0.361006  0.003216   \n",
       "1             -0.258809       -0.638485              -0.262234  0.011409   \n",
       "2              0.383736       -0.881620              -0.225582  0.078062   \n",
       "3              0.083123       -0.119941              -0.210904  0.061377   \n",
       "4             -1.025842        0.250055              -0.541476  0.032839   \n",
       "\n",
       "   class  \n",
       "0      0  \n",
       "1      1  \n",
       "2      0  \n",
       "3      0  \n",
       "4      1  "
      ]
     },
     "execution_count": 152,
     "metadata": {},
     "output_type": "execute_result"
    }
   ],
   "source": [
    "# add a class column to classify each cluster\n",
    "\n",
    "def get_clusters(k, data):\n",
    "    # Create a copy of the DataFrame\n",
    "    data = data.copy()\n",
    "\n",
    "    # Initialize the K-Means model\n",
    "    model = KMeans(n_clusters=k, random_state=0)\n",
    "\n",
    "    # Fit the model\n",
    "    model.fit(data)\n",
    "\n",
    "    # Predict clusters\n",
    "    predictions = model.predict(data)\n",
    "\n",
    "    # Create return DataFrame with predicted clusters\n",
    "    data[\"class\"] = model.labels_\n",
    "        \n",
    "    return data\n",
    "\n",
    "classified_df = get_clusters(n_cluster, cluster_df)\n",
    "classified_df.head()"
   ]
  },
  {
   "cell_type": "code",
   "execution_count": 153,
   "id": "4026050e",
   "metadata": {},
   "outputs": [
    {
     "data": {
      "application/vnd.plotly.v1+json": {
       "config": {
        "plotlyServerURL": "https://plot.ly"
       },
       "data": [
        {
         "hovertemplate": "class=%{marker.color}<br>total_law_per_capita=%{x}<br>gdp_per_capita=%{y}<br>target=%{z}<extra></extra>",
         "legendgroup": "0",
         "marker": {
          "color": [
           0,
           0,
           0,
           0,
           0,
           0,
           0,
           0,
           0,
           0,
           0,
           0,
           0,
           0,
           0,
           0
          ],
          "coloraxis": "coloraxis",
          "symbol": "circle"
         },
         "mode": "markers",
         "name": "0",
         "scene": "scene",
         "showlegend": true,
         "type": "scatter3d",
         "x": [
          0.7642960552182658,
          0.3837364792405072,
          0.08312256819718479,
          1.0163137235742818,
          0.6113313664840733,
          -0.03164784666887686,
          0.9303005777896481,
          0.3139175949678757,
          -0.11484206127166266,
          0.4922963067397109,
          0.7056836877152198,
          0.06811660413341131,
          0.09361960341739713,
          0.023093688662524703,
          1.3949983368633487,
          0.30576687954443255
         ],
         "y": [
          -0.7707391926854966,
          -0.8816204389554805,
          -0.11994116973487788,
          0.2236609975533236,
          -0.16342777640903688,
          -0.7961972046579043,
          0.40334866888460674,
          -0.008253979637710471,
          -0.7623077010115966,
          0.03229916152639453,
          -0.3369697842717562,
          -0.4768271672367986,
          -0.7533418832737103,
          -0.7231728822279005,
          -0.5240554346848935,
          -0.26813313085468027
         ],
         "z": [
          0.0032156972198442327,
          0.0780624786684604,
          0.0613771596442994,
          0.06731725534929224,
          0.03630404633571958,
          0.04045169005110791,
          0.08058548632683368,
          0.009082584902812513,
          0.028046470800846802,
          0.05491531469055377,
          0.029131658552145,
          0.05293142827743985,
          0.039817643627901855,
          0.07080660400668694,
          0.07358904364554604,
          0.045353216971400274
         ]
        },
        {
         "hovertemplate": "class=%{marker.color}<br>total_law_per_capita=%{x}<br>gdp_per_capita=%{y}<br>target=%{z}<extra></extra>",
         "legendgroup": "1",
         "marker": {
          "color": [
           1,
           1,
           1,
           1,
           1,
           1,
           1,
           1,
           1,
           1,
           1,
           1,
           1,
           1,
           1,
           1,
           1,
           1,
           1,
           1,
           1,
           1
          ],
          "coloraxis": "coloraxis",
          "symbol": "diamond"
         },
         "mode": "markers",
         "name": "1",
         "scene": "scene",
         "showlegend": true,
         "type": "scatter3d",
         "x": [
          -0.2588090092549842,
          -1.0258420300169122,
          -0.9431887985513303,
          -0.3555383111279976,
          -0.8206811379477789,
          -1.0907192903166212,
          -1.6599301369253858,
          -0.06489261811211683,
          -0.9772491602045483,
          -0.7475239022074627,
          -0.6759577960283617,
          -0.5920629924988304,
          -0.31951580536213026,
          -0.9991946742357641,
          -0.1459479111231839,
          -0.42888365970879383,
          -1.2655348674529827,
          -0.9298527669875111,
          -0.5701799293101008,
          -1.809497761998639,
          -1.018840113893081,
          -0.23286716843455513
         ],
         "y": [
          -0.638485444820937,
          0.2500546570908876,
          -0.3703190970425834,
          0.8828044239483631,
          -0.22849902130413255,
          -0.48067369242612373,
          -0.621095114478361,
          0.6672180296644161,
          -0.5407005714290154,
          -0.12886560218697804,
          0.030857501744933,
          -0.09777835915410163,
          1.2556493594689524,
          -0.40710329557494873,
          0.32289195478015753,
          -0.4239164209330712,
          -0.2611841204553321,
          -0.5414273486381835,
          -0.2028719020457953,
          0.2874176250437192,
          -0.9037972613844534,
          -0.3676678515395766
         ],
         "z": [
          0.011408667342429867,
          0.03283941607070666,
          0.03225714744642169,
          0.05274004057521917,
          0.04538188661393446,
          0.055551096797772447,
          0.02096299571674366,
          0.038380235098039735,
          0.04507514924525237,
          0.03214137498542524,
          0.020132369490573985,
          0.04009404492047807,
          0.07724898224446732,
          0.05434385509063947,
          0.00012973176688868435,
          0.03618966536596902,
          0.05811184756870843,
          0.028728983495295388,
          0.04584251886726328,
          0.06083562722016408,
          0.03339226716067412,
          0.0369380507354318
         ]
        },
        {
         "hovertemplate": "class=%{marker.color}<br>total_law_per_capita=%{x}<br>gdp_per_capita=%{y}<br>target=%{z}<extra></extra>",
         "legendgroup": "2",
         "marker": {
          "color": [
           2,
           2,
           2
          ],
          "coloraxis": "coloraxis",
          "symbol": "square"
         },
         "mode": "markers",
         "name": "2",
         "scene": "scene",
         "showlegend": true,
         "type": "scatter3d",
         "x": [
          1.5550560589459932,
          2.837853284174642,
          2.2274382654053935
         ],
         "y": [
          0.9572810207061637,
          2.4081553231568833,
          1.022080982757119
         ],
         "z": [
          0.0018297706843730468,
          0.050987556004060866,
          0.0027923351744888517
         ]
        },
        {
         "hovertemplate": "class=%{marker.color}<br>total_law_per_capita=%{x}<br>gdp_per_capita=%{y}<br>target=%{z}<extra></extra>",
         "legendgroup": "4",
         "marker": {
          "color": [
           4,
           4,
           4,
           4
          ],
          "coloraxis": "coloraxis",
          "symbol": "x"
         },
         "mode": "markers",
         "name": "4",
         "scene": "scene",
         "showlegend": true,
         "type": "scatter3d",
         "x": [
          -0.09239200618299707,
          0.19288107809644395,
          0.45467634995932216,
          2.6161763359963697
         ],
         "y": [
          -0.7365292929360469,
          0.05543489314621928,
          -0.2542057069897502,
          -0.17582638798431838
         ],
         "z": [
          0.05284085371796121,
          0.06456397681734694,
          0.061489414308941975,
          0.006699160419469134
         ]
        },
        {
         "hovertemplate": "class=%{marker.color}<br>total_law_per_capita=%{x}<br>gdp_per_capita=%{y}<br>target=%{z}<extra></extra>",
         "legendgroup": "3",
         "marker": {
          "color": [
           3
          ],
          "coloraxis": "coloraxis",
          "symbol": "cross"
         },
         "mode": "markers",
         "name": "3",
         "scene": "scene",
         "showlegend": true,
         "type": "scatter3d",
         "x": [
          0.1009169106965728
         ],
         "y": [
          5.1667796374934305
         ],
         "z": [
          0.22808564724736527
         ]
        }
       ],
       "layout": {
        "coloraxis": {
         "colorbar": {
          "title": {
           "text": "class"
          }
         },
         "colorscale": [
          [
           0,
           "#0d0887"
          ],
          [
           0.1111111111111111,
           "#46039f"
          ],
          [
           0.2222222222222222,
           "#7201a8"
          ],
          [
           0.3333333333333333,
           "#9c179e"
          ],
          [
           0.4444444444444444,
           "#bd3786"
          ],
          [
           0.5555555555555556,
           "#d8576b"
          ],
          [
           0.6666666666666666,
           "#ed7953"
          ],
          [
           0.7777777777777778,
           "#fb9f3a"
          ],
          [
           0.8888888888888888,
           "#fdca26"
          ],
          [
           1,
           "#f0f921"
          ]
         ]
        },
        "legend": {
         "title": {
          "text": "class"
         },
         "tracegroupgap": 0,
         "x": 0,
         "y": 1
        },
        "margin": {
         "t": 60
        },
        "scene": {
         "domain": {
          "x": [
           0,
           1
          ],
          "y": [
           0,
           1
          ]
         },
         "xaxis": {
          "title": {
           "text": "total_law_per_capita"
          }
         },
         "yaxis": {
          "title": {
           "text": "gdp_per_capita"
          }
         },
         "zaxis": {
          "title": {
           "text": "target"
          }
         }
        },
        "template": {
         "data": {
          "bar": [
           {
            "error_x": {
             "color": "#2a3f5f"
            },
            "error_y": {
             "color": "#2a3f5f"
            },
            "marker": {
             "line": {
              "color": "#E5ECF6",
              "width": 0.5
             },
             "pattern": {
              "fillmode": "overlay",
              "size": 10,
              "solidity": 0.2
             }
            },
            "type": "bar"
           }
          ],
          "barpolar": [
           {
            "marker": {
             "line": {
              "color": "#E5ECF6",
              "width": 0.5
             },
             "pattern": {
              "fillmode": "overlay",
              "size": 10,
              "solidity": 0.2
             }
            },
            "type": "barpolar"
           }
          ],
          "carpet": [
           {
            "aaxis": {
             "endlinecolor": "#2a3f5f",
             "gridcolor": "white",
             "linecolor": "white",
             "minorgridcolor": "white",
             "startlinecolor": "#2a3f5f"
            },
            "baxis": {
             "endlinecolor": "#2a3f5f",
             "gridcolor": "white",
             "linecolor": "white",
             "minorgridcolor": "white",
             "startlinecolor": "#2a3f5f"
            },
            "type": "carpet"
           }
          ],
          "choropleth": [
           {
            "colorbar": {
             "outlinewidth": 0,
             "ticks": ""
            },
            "type": "choropleth"
           }
          ],
          "contour": [
           {
            "colorbar": {
             "outlinewidth": 0,
             "ticks": ""
            },
            "colorscale": [
             [
              0,
              "#0d0887"
             ],
             [
              0.1111111111111111,
              "#46039f"
             ],
             [
              0.2222222222222222,
              "#7201a8"
             ],
             [
              0.3333333333333333,
              "#9c179e"
             ],
             [
              0.4444444444444444,
              "#bd3786"
             ],
             [
              0.5555555555555556,
              "#d8576b"
             ],
             [
              0.6666666666666666,
              "#ed7953"
             ],
             [
              0.7777777777777778,
              "#fb9f3a"
             ],
             [
              0.8888888888888888,
              "#fdca26"
             ],
             [
              1,
              "#f0f921"
             ]
            ],
            "type": "contour"
           }
          ],
          "contourcarpet": [
           {
            "colorbar": {
             "outlinewidth": 0,
             "ticks": ""
            },
            "type": "contourcarpet"
           }
          ],
          "heatmap": [
           {
            "colorbar": {
             "outlinewidth": 0,
             "ticks": ""
            },
            "colorscale": [
             [
              0,
              "#0d0887"
             ],
             [
              0.1111111111111111,
              "#46039f"
             ],
             [
              0.2222222222222222,
              "#7201a8"
             ],
             [
              0.3333333333333333,
              "#9c179e"
             ],
             [
              0.4444444444444444,
              "#bd3786"
             ],
             [
              0.5555555555555556,
              "#d8576b"
             ],
             [
              0.6666666666666666,
              "#ed7953"
             ],
             [
              0.7777777777777778,
              "#fb9f3a"
             ],
             [
              0.8888888888888888,
              "#fdca26"
             ],
             [
              1,
              "#f0f921"
             ]
            ],
            "type": "heatmap"
           }
          ],
          "heatmapgl": [
           {
            "colorbar": {
             "outlinewidth": 0,
             "ticks": ""
            },
            "colorscale": [
             [
              0,
              "#0d0887"
             ],
             [
              0.1111111111111111,
              "#46039f"
             ],
             [
              0.2222222222222222,
              "#7201a8"
             ],
             [
              0.3333333333333333,
              "#9c179e"
             ],
             [
              0.4444444444444444,
              "#bd3786"
             ],
             [
              0.5555555555555556,
              "#d8576b"
             ],
             [
              0.6666666666666666,
              "#ed7953"
             ],
             [
              0.7777777777777778,
              "#fb9f3a"
             ],
             [
              0.8888888888888888,
              "#fdca26"
             ],
             [
              1,
              "#f0f921"
             ]
            ],
            "type": "heatmapgl"
           }
          ],
          "histogram": [
           {
            "marker": {
             "pattern": {
              "fillmode": "overlay",
              "size": 10,
              "solidity": 0.2
             }
            },
            "type": "histogram"
           }
          ],
          "histogram2d": [
           {
            "colorbar": {
             "outlinewidth": 0,
             "ticks": ""
            },
            "colorscale": [
             [
              0,
              "#0d0887"
             ],
             [
              0.1111111111111111,
              "#46039f"
             ],
             [
              0.2222222222222222,
              "#7201a8"
             ],
             [
              0.3333333333333333,
              "#9c179e"
             ],
             [
              0.4444444444444444,
              "#bd3786"
             ],
             [
              0.5555555555555556,
              "#d8576b"
             ],
             [
              0.6666666666666666,
              "#ed7953"
             ],
             [
              0.7777777777777778,
              "#fb9f3a"
             ],
             [
              0.8888888888888888,
              "#fdca26"
             ],
             [
              1,
              "#f0f921"
             ]
            ],
            "type": "histogram2d"
           }
          ],
          "histogram2dcontour": [
           {
            "colorbar": {
             "outlinewidth": 0,
             "ticks": ""
            },
            "colorscale": [
             [
              0,
              "#0d0887"
             ],
             [
              0.1111111111111111,
              "#46039f"
             ],
             [
              0.2222222222222222,
              "#7201a8"
             ],
             [
              0.3333333333333333,
              "#9c179e"
             ],
             [
              0.4444444444444444,
              "#bd3786"
             ],
             [
              0.5555555555555556,
              "#d8576b"
             ],
             [
              0.6666666666666666,
              "#ed7953"
             ],
             [
              0.7777777777777778,
              "#fb9f3a"
             ],
             [
              0.8888888888888888,
              "#fdca26"
             ],
             [
              1,
              "#f0f921"
             ]
            ],
            "type": "histogram2dcontour"
           }
          ],
          "mesh3d": [
           {
            "colorbar": {
             "outlinewidth": 0,
             "ticks": ""
            },
            "type": "mesh3d"
           }
          ],
          "parcoords": [
           {
            "line": {
             "colorbar": {
              "outlinewidth": 0,
              "ticks": ""
             }
            },
            "type": "parcoords"
           }
          ],
          "pie": [
           {
            "automargin": true,
            "type": "pie"
           }
          ],
          "scatter": [
           {
            "marker": {
             "colorbar": {
              "outlinewidth": 0,
              "ticks": ""
             }
            },
            "type": "scatter"
           }
          ],
          "scatter3d": [
           {
            "line": {
             "colorbar": {
              "outlinewidth": 0,
              "ticks": ""
             }
            },
            "marker": {
             "colorbar": {
              "outlinewidth": 0,
              "ticks": ""
             }
            },
            "type": "scatter3d"
           }
          ],
          "scattercarpet": [
           {
            "marker": {
             "colorbar": {
              "outlinewidth": 0,
              "ticks": ""
             }
            },
            "type": "scattercarpet"
           }
          ],
          "scattergeo": [
           {
            "marker": {
             "colorbar": {
              "outlinewidth": 0,
              "ticks": ""
             }
            },
            "type": "scattergeo"
           }
          ],
          "scattergl": [
           {
            "marker": {
             "colorbar": {
              "outlinewidth": 0,
              "ticks": ""
             }
            },
            "type": "scattergl"
           }
          ],
          "scattermapbox": [
           {
            "marker": {
             "colorbar": {
              "outlinewidth": 0,
              "ticks": ""
             }
            },
            "type": "scattermapbox"
           }
          ],
          "scatterpolar": [
           {
            "marker": {
             "colorbar": {
              "outlinewidth": 0,
              "ticks": ""
             }
            },
            "type": "scatterpolar"
           }
          ],
          "scatterpolargl": [
           {
            "marker": {
             "colorbar": {
              "outlinewidth": 0,
              "ticks": ""
             }
            },
            "type": "scatterpolargl"
           }
          ],
          "scatterternary": [
           {
            "marker": {
             "colorbar": {
              "outlinewidth": 0,
              "ticks": ""
             }
            },
            "type": "scatterternary"
           }
          ],
          "surface": [
           {
            "colorbar": {
             "outlinewidth": 0,
             "ticks": ""
            },
            "colorscale": [
             [
              0,
              "#0d0887"
             ],
             [
              0.1111111111111111,
              "#46039f"
             ],
             [
              0.2222222222222222,
              "#7201a8"
             ],
             [
              0.3333333333333333,
              "#9c179e"
             ],
             [
              0.4444444444444444,
              "#bd3786"
             ],
             [
              0.5555555555555556,
              "#d8576b"
             ],
             [
              0.6666666666666666,
              "#ed7953"
             ],
             [
              0.7777777777777778,
              "#fb9f3a"
             ],
             [
              0.8888888888888888,
              "#fdca26"
             ],
             [
              1,
              "#f0f921"
             ]
            ],
            "type": "surface"
           }
          ],
          "table": [
           {
            "cells": {
             "fill": {
              "color": "#EBF0F8"
             },
             "line": {
              "color": "white"
             }
            },
            "header": {
             "fill": {
              "color": "#C8D4E3"
             },
             "line": {
              "color": "white"
             }
            },
            "type": "table"
           }
          ]
         },
         "layout": {
          "annotationdefaults": {
           "arrowcolor": "#2a3f5f",
           "arrowhead": 0,
           "arrowwidth": 1
          },
          "autotypenumbers": "strict",
          "coloraxis": {
           "colorbar": {
            "outlinewidth": 0,
            "ticks": ""
           }
          },
          "colorscale": {
           "diverging": [
            [
             0,
             "#8e0152"
            ],
            [
             0.1,
             "#c51b7d"
            ],
            [
             0.2,
             "#de77ae"
            ],
            [
             0.3,
             "#f1b6da"
            ],
            [
             0.4,
             "#fde0ef"
            ],
            [
             0.5,
             "#f7f7f7"
            ],
            [
             0.6,
             "#e6f5d0"
            ],
            [
             0.7,
             "#b8e186"
            ],
            [
             0.8,
             "#7fbc41"
            ],
            [
             0.9,
             "#4d9221"
            ],
            [
             1,
             "#276419"
            ]
           ],
           "sequential": [
            [
             0,
             "#0d0887"
            ],
            [
             0.1111111111111111,
             "#46039f"
            ],
            [
             0.2222222222222222,
             "#7201a8"
            ],
            [
             0.3333333333333333,
             "#9c179e"
            ],
            [
             0.4444444444444444,
             "#bd3786"
            ],
            [
             0.5555555555555556,
             "#d8576b"
            ],
            [
             0.6666666666666666,
             "#ed7953"
            ],
            [
             0.7777777777777778,
             "#fb9f3a"
            ],
            [
             0.8888888888888888,
             "#fdca26"
            ],
            [
             1,
             "#f0f921"
            ]
           ],
           "sequentialminus": [
            [
             0,
             "#0d0887"
            ],
            [
             0.1111111111111111,
             "#46039f"
            ],
            [
             0.2222222222222222,
             "#7201a8"
            ],
            [
             0.3333333333333333,
             "#9c179e"
            ],
            [
             0.4444444444444444,
             "#bd3786"
            ],
            [
             0.5555555555555556,
             "#d8576b"
            ],
            [
             0.6666666666666666,
             "#ed7953"
            ],
            [
             0.7777777777777778,
             "#fb9f3a"
            ],
            [
             0.8888888888888888,
             "#fdca26"
            ],
            [
             1,
             "#f0f921"
            ]
           ]
          },
          "colorway": [
           "#636efa",
           "#EF553B",
           "#00cc96",
           "#ab63fa",
           "#FFA15A",
           "#19d3f3",
           "#FF6692",
           "#B6E880",
           "#FF97FF",
           "#FECB52"
          ],
          "font": {
           "color": "#2a3f5f"
          },
          "geo": {
           "bgcolor": "white",
           "lakecolor": "white",
           "landcolor": "#E5ECF6",
           "showlakes": true,
           "showland": true,
           "subunitcolor": "white"
          },
          "hoverlabel": {
           "align": "left"
          },
          "hovermode": "closest",
          "mapbox": {
           "style": "light"
          },
          "paper_bgcolor": "white",
          "plot_bgcolor": "#E5ECF6",
          "polar": {
           "angularaxis": {
            "gridcolor": "white",
            "linecolor": "white",
            "ticks": ""
           },
           "bgcolor": "#E5ECF6",
           "radialaxis": {
            "gridcolor": "white",
            "linecolor": "white",
            "ticks": ""
           }
          },
          "scene": {
           "xaxis": {
            "backgroundcolor": "#E5ECF6",
            "gridcolor": "white",
            "gridwidth": 2,
            "linecolor": "white",
            "showbackground": true,
            "ticks": "",
            "zerolinecolor": "white"
           },
           "yaxis": {
            "backgroundcolor": "#E5ECF6",
            "gridcolor": "white",
            "gridwidth": 2,
            "linecolor": "white",
            "showbackground": true,
            "ticks": "",
            "zerolinecolor": "white"
           },
           "zaxis": {
            "backgroundcolor": "#E5ECF6",
            "gridcolor": "white",
            "gridwidth": 2,
            "linecolor": "white",
            "showbackground": true,
            "ticks": "",
            "zerolinecolor": "white"
           }
          },
          "shapedefaults": {
           "line": {
            "color": "#2a3f5f"
           }
          },
          "ternary": {
           "aaxis": {
            "gridcolor": "white",
            "linecolor": "white",
            "ticks": ""
           },
           "baxis": {
            "gridcolor": "white",
            "linecolor": "white",
            "ticks": ""
           },
           "bgcolor": "#E5ECF6",
           "caxis": {
            "gridcolor": "white",
            "linecolor": "white",
            "ticks": ""
           }
          },
          "title": {
           "x": 0.05
          },
          "xaxis": {
           "automargin": true,
           "gridcolor": "white",
           "linecolor": "white",
           "ticks": "",
           "title": {
            "standoff": 15
           },
           "zerolinecolor": "white",
           "zerolinewidth": 2
          },
          "yaxis": {
           "automargin": true,
           "gridcolor": "white",
           "linecolor": "white",
           "ticks": "",
           "title": {
            "standoff": 15
           },
           "zerolinecolor": "white",
           "zerolinewidth": 2
          }
         }
        },
        "width": 800
       }
      },
      "text/html": [
       "<div>                            <div id=\"cfa72634-5165-423f-a1bd-7ef77c3ca825\" class=\"plotly-graph-div\" style=\"height:525px; width:800px;\"></div>            <script type=\"text/javascript\">                require([\"plotly\"], function(Plotly) {                    window.PLOTLYENV=window.PLOTLYENV || {};                                    if (document.getElementById(\"cfa72634-5165-423f-a1bd-7ef77c3ca825\")) {                    Plotly.newPlot(                        \"cfa72634-5165-423f-a1bd-7ef77c3ca825\",                        [{\"hovertemplate\":\"class=%{marker.color}<br>total_law_per_capita=%{x}<br>gdp_per_capita=%{y}<br>target=%{z}<extra></extra>\",\"legendgroup\":\"0\",\"marker\":{\"color\":[0,0,0,0,0,0,0,0,0,0,0,0,0,0,0,0],\"coloraxis\":\"coloraxis\",\"symbol\":\"circle\"},\"mode\":\"markers\",\"name\":\"0\",\"scene\":\"scene\",\"showlegend\":true,\"x\":[0.7642960552182658,0.3837364792405072,0.08312256819718479,1.0163137235742818,0.6113313664840733,-0.03164784666887686,0.9303005777896481,0.3139175949678757,-0.11484206127166266,0.4922963067397109,0.7056836877152198,0.06811660413341131,0.09361960341739713,0.023093688662524703,1.3949983368633487,0.30576687954443255],\"y\":[-0.7707391926854966,-0.8816204389554805,-0.11994116973487788,0.2236609975533236,-0.16342777640903688,-0.7961972046579043,0.40334866888460674,-0.008253979637710471,-0.7623077010115966,0.03229916152639453,-0.3369697842717562,-0.4768271672367986,-0.7533418832737103,-0.7231728822279005,-0.5240554346848935,-0.26813313085468027],\"z\":[0.0032156972198442327,0.0780624786684604,0.0613771596442994,0.06731725534929224,0.03630404633571958,0.04045169005110791,0.08058548632683368,0.009082584902812513,0.028046470800846802,0.05491531469055377,0.029131658552145,0.05293142827743985,0.039817643627901855,0.07080660400668694,0.07358904364554604,0.045353216971400274],\"type\":\"scatter3d\"},{\"hovertemplate\":\"class=%{marker.color}<br>total_law_per_capita=%{x}<br>gdp_per_capita=%{y}<br>target=%{z}<extra></extra>\",\"legendgroup\":\"1\",\"marker\":{\"color\":[1,1,1,1,1,1,1,1,1,1,1,1,1,1,1,1,1,1,1,1,1,1],\"coloraxis\":\"coloraxis\",\"symbol\":\"diamond\"},\"mode\":\"markers\",\"name\":\"1\",\"scene\":\"scene\",\"showlegend\":true,\"x\":[-0.2588090092549842,-1.0258420300169122,-0.9431887985513303,-0.3555383111279976,-0.8206811379477789,-1.0907192903166212,-1.6599301369253858,-0.06489261811211683,-0.9772491602045483,-0.7475239022074627,-0.6759577960283617,-0.5920629924988304,-0.31951580536213026,-0.9991946742357641,-0.1459479111231839,-0.42888365970879383,-1.2655348674529827,-0.9298527669875111,-0.5701799293101008,-1.809497761998639,-1.018840113893081,-0.23286716843455513],\"y\":[-0.638485444820937,0.2500546570908876,-0.3703190970425834,0.8828044239483631,-0.22849902130413255,-0.48067369242612373,-0.621095114478361,0.6672180296644161,-0.5407005714290154,-0.12886560218697804,0.030857501744933,-0.09777835915410163,1.2556493594689524,-0.40710329557494873,0.32289195478015753,-0.4239164209330712,-0.2611841204553321,-0.5414273486381835,-0.2028719020457953,0.2874176250437192,-0.9037972613844534,-0.3676678515395766],\"z\":[0.011408667342429867,0.03283941607070666,0.03225714744642169,0.05274004057521917,0.04538188661393446,0.055551096797772447,0.02096299571674366,0.038380235098039735,0.04507514924525237,0.03214137498542524,0.020132369490573985,0.04009404492047807,0.07724898224446732,0.05434385509063947,0.00012973176688868435,0.03618966536596902,0.05811184756870843,0.028728983495295388,0.04584251886726328,0.06083562722016408,0.03339226716067412,0.0369380507354318],\"type\":\"scatter3d\"},{\"hovertemplate\":\"class=%{marker.color}<br>total_law_per_capita=%{x}<br>gdp_per_capita=%{y}<br>target=%{z}<extra></extra>\",\"legendgroup\":\"2\",\"marker\":{\"color\":[2,2,2],\"coloraxis\":\"coloraxis\",\"symbol\":\"square\"},\"mode\":\"markers\",\"name\":\"2\",\"scene\":\"scene\",\"showlegend\":true,\"x\":[1.5550560589459932,2.837853284174642,2.2274382654053935],\"y\":[0.9572810207061637,2.4081553231568833,1.022080982757119],\"z\":[0.0018297706843730468,0.050987556004060866,0.0027923351744888517],\"type\":\"scatter3d\"},{\"hovertemplate\":\"class=%{marker.color}<br>total_law_per_capita=%{x}<br>gdp_per_capita=%{y}<br>target=%{z}<extra></extra>\",\"legendgroup\":\"4\",\"marker\":{\"color\":[4,4,4,4],\"coloraxis\":\"coloraxis\",\"symbol\":\"x\"},\"mode\":\"markers\",\"name\":\"4\",\"scene\":\"scene\",\"showlegend\":true,\"x\":[-0.09239200618299707,0.19288107809644395,0.45467634995932216,2.6161763359963697],\"y\":[-0.7365292929360469,0.05543489314621928,-0.2542057069897502,-0.17582638798431838],\"z\":[0.05284085371796121,0.06456397681734694,0.061489414308941975,0.006699160419469134],\"type\":\"scatter3d\"},{\"hovertemplate\":\"class=%{marker.color}<br>total_law_per_capita=%{x}<br>gdp_per_capita=%{y}<br>target=%{z}<extra></extra>\",\"legendgroup\":\"3\",\"marker\":{\"color\":[3],\"coloraxis\":\"coloraxis\",\"symbol\":\"cross\"},\"mode\":\"markers\",\"name\":\"3\",\"scene\":\"scene\",\"showlegend\":true,\"x\":[0.1009169106965728],\"y\":[5.1667796374934305],\"z\":[0.22808564724736527],\"type\":\"scatter3d\"}],                        {\"template\":{\"data\":{\"bar\":[{\"error_x\":{\"color\":\"#2a3f5f\"},\"error_y\":{\"color\":\"#2a3f5f\"},\"marker\":{\"line\":{\"color\":\"#E5ECF6\",\"width\":0.5},\"pattern\":{\"fillmode\":\"overlay\",\"size\":10,\"solidity\":0.2}},\"type\":\"bar\"}],\"barpolar\":[{\"marker\":{\"line\":{\"color\":\"#E5ECF6\",\"width\":0.5},\"pattern\":{\"fillmode\":\"overlay\",\"size\":10,\"solidity\":0.2}},\"type\":\"barpolar\"}],\"carpet\":[{\"aaxis\":{\"endlinecolor\":\"#2a3f5f\",\"gridcolor\":\"white\",\"linecolor\":\"white\",\"minorgridcolor\":\"white\",\"startlinecolor\":\"#2a3f5f\"},\"baxis\":{\"endlinecolor\":\"#2a3f5f\",\"gridcolor\":\"white\",\"linecolor\":\"white\",\"minorgridcolor\":\"white\",\"startlinecolor\":\"#2a3f5f\"},\"type\":\"carpet\"}],\"choropleth\":[{\"colorbar\":{\"outlinewidth\":0,\"ticks\":\"\"},\"type\":\"choropleth\"}],\"contour\":[{\"colorbar\":{\"outlinewidth\":0,\"ticks\":\"\"},\"colorscale\":[[0.0,\"#0d0887\"],[0.1111111111111111,\"#46039f\"],[0.2222222222222222,\"#7201a8\"],[0.3333333333333333,\"#9c179e\"],[0.4444444444444444,\"#bd3786\"],[0.5555555555555556,\"#d8576b\"],[0.6666666666666666,\"#ed7953\"],[0.7777777777777778,\"#fb9f3a\"],[0.8888888888888888,\"#fdca26\"],[1.0,\"#f0f921\"]],\"type\":\"contour\"}],\"contourcarpet\":[{\"colorbar\":{\"outlinewidth\":0,\"ticks\":\"\"},\"type\":\"contourcarpet\"}],\"heatmap\":[{\"colorbar\":{\"outlinewidth\":0,\"ticks\":\"\"},\"colorscale\":[[0.0,\"#0d0887\"],[0.1111111111111111,\"#46039f\"],[0.2222222222222222,\"#7201a8\"],[0.3333333333333333,\"#9c179e\"],[0.4444444444444444,\"#bd3786\"],[0.5555555555555556,\"#d8576b\"],[0.6666666666666666,\"#ed7953\"],[0.7777777777777778,\"#fb9f3a\"],[0.8888888888888888,\"#fdca26\"],[1.0,\"#f0f921\"]],\"type\":\"heatmap\"}],\"heatmapgl\":[{\"colorbar\":{\"outlinewidth\":0,\"ticks\":\"\"},\"colorscale\":[[0.0,\"#0d0887\"],[0.1111111111111111,\"#46039f\"],[0.2222222222222222,\"#7201a8\"],[0.3333333333333333,\"#9c179e\"],[0.4444444444444444,\"#bd3786\"],[0.5555555555555556,\"#d8576b\"],[0.6666666666666666,\"#ed7953\"],[0.7777777777777778,\"#fb9f3a\"],[0.8888888888888888,\"#fdca26\"],[1.0,\"#f0f921\"]],\"type\":\"heatmapgl\"}],\"histogram\":[{\"marker\":{\"pattern\":{\"fillmode\":\"overlay\",\"size\":10,\"solidity\":0.2}},\"type\":\"histogram\"}],\"histogram2d\":[{\"colorbar\":{\"outlinewidth\":0,\"ticks\":\"\"},\"colorscale\":[[0.0,\"#0d0887\"],[0.1111111111111111,\"#46039f\"],[0.2222222222222222,\"#7201a8\"],[0.3333333333333333,\"#9c179e\"],[0.4444444444444444,\"#bd3786\"],[0.5555555555555556,\"#d8576b\"],[0.6666666666666666,\"#ed7953\"],[0.7777777777777778,\"#fb9f3a\"],[0.8888888888888888,\"#fdca26\"],[1.0,\"#f0f921\"]],\"type\":\"histogram2d\"}],\"histogram2dcontour\":[{\"colorbar\":{\"outlinewidth\":0,\"ticks\":\"\"},\"colorscale\":[[0.0,\"#0d0887\"],[0.1111111111111111,\"#46039f\"],[0.2222222222222222,\"#7201a8\"],[0.3333333333333333,\"#9c179e\"],[0.4444444444444444,\"#bd3786\"],[0.5555555555555556,\"#d8576b\"],[0.6666666666666666,\"#ed7953\"],[0.7777777777777778,\"#fb9f3a\"],[0.8888888888888888,\"#fdca26\"],[1.0,\"#f0f921\"]],\"type\":\"histogram2dcontour\"}],\"mesh3d\":[{\"colorbar\":{\"outlinewidth\":0,\"ticks\":\"\"},\"type\":\"mesh3d\"}],\"parcoords\":[{\"line\":{\"colorbar\":{\"outlinewidth\":0,\"ticks\":\"\"}},\"type\":\"parcoords\"}],\"pie\":[{\"automargin\":true,\"type\":\"pie\"}],\"scatter\":[{\"marker\":{\"colorbar\":{\"outlinewidth\":0,\"ticks\":\"\"}},\"type\":\"scatter\"}],\"scatter3d\":[{\"line\":{\"colorbar\":{\"outlinewidth\":0,\"ticks\":\"\"}},\"marker\":{\"colorbar\":{\"outlinewidth\":0,\"ticks\":\"\"}},\"type\":\"scatter3d\"}],\"scattercarpet\":[{\"marker\":{\"colorbar\":{\"outlinewidth\":0,\"ticks\":\"\"}},\"type\":\"scattercarpet\"}],\"scattergeo\":[{\"marker\":{\"colorbar\":{\"outlinewidth\":0,\"ticks\":\"\"}},\"type\":\"scattergeo\"}],\"scattergl\":[{\"marker\":{\"colorbar\":{\"outlinewidth\":0,\"ticks\":\"\"}},\"type\":\"scattergl\"}],\"scattermapbox\":[{\"marker\":{\"colorbar\":{\"outlinewidth\":0,\"ticks\":\"\"}},\"type\":\"scattermapbox\"}],\"scatterpolar\":[{\"marker\":{\"colorbar\":{\"outlinewidth\":0,\"ticks\":\"\"}},\"type\":\"scatterpolar\"}],\"scatterpolargl\":[{\"marker\":{\"colorbar\":{\"outlinewidth\":0,\"ticks\":\"\"}},\"type\":\"scatterpolargl\"}],\"scatterternary\":[{\"marker\":{\"colorbar\":{\"outlinewidth\":0,\"ticks\":\"\"}},\"type\":\"scatterternary\"}],\"surface\":[{\"colorbar\":{\"outlinewidth\":0,\"ticks\":\"\"},\"colorscale\":[[0.0,\"#0d0887\"],[0.1111111111111111,\"#46039f\"],[0.2222222222222222,\"#7201a8\"],[0.3333333333333333,\"#9c179e\"],[0.4444444444444444,\"#bd3786\"],[0.5555555555555556,\"#d8576b\"],[0.6666666666666666,\"#ed7953\"],[0.7777777777777778,\"#fb9f3a\"],[0.8888888888888888,\"#fdca26\"],[1.0,\"#f0f921\"]],\"type\":\"surface\"}],\"table\":[{\"cells\":{\"fill\":{\"color\":\"#EBF0F8\"},\"line\":{\"color\":\"white\"}},\"header\":{\"fill\":{\"color\":\"#C8D4E3\"},\"line\":{\"color\":\"white\"}},\"type\":\"table\"}]},\"layout\":{\"annotationdefaults\":{\"arrowcolor\":\"#2a3f5f\",\"arrowhead\":0,\"arrowwidth\":1},\"autotypenumbers\":\"strict\",\"coloraxis\":{\"colorbar\":{\"outlinewidth\":0,\"ticks\":\"\"}},\"colorscale\":{\"diverging\":[[0,\"#8e0152\"],[0.1,\"#c51b7d\"],[0.2,\"#de77ae\"],[0.3,\"#f1b6da\"],[0.4,\"#fde0ef\"],[0.5,\"#f7f7f7\"],[0.6,\"#e6f5d0\"],[0.7,\"#b8e186\"],[0.8,\"#7fbc41\"],[0.9,\"#4d9221\"],[1,\"#276419\"]],\"sequential\":[[0.0,\"#0d0887\"],[0.1111111111111111,\"#46039f\"],[0.2222222222222222,\"#7201a8\"],[0.3333333333333333,\"#9c179e\"],[0.4444444444444444,\"#bd3786\"],[0.5555555555555556,\"#d8576b\"],[0.6666666666666666,\"#ed7953\"],[0.7777777777777778,\"#fb9f3a\"],[0.8888888888888888,\"#fdca26\"],[1.0,\"#f0f921\"]],\"sequentialminus\":[[0.0,\"#0d0887\"],[0.1111111111111111,\"#46039f\"],[0.2222222222222222,\"#7201a8\"],[0.3333333333333333,\"#9c179e\"],[0.4444444444444444,\"#bd3786\"],[0.5555555555555556,\"#d8576b\"],[0.6666666666666666,\"#ed7953\"],[0.7777777777777778,\"#fb9f3a\"],[0.8888888888888888,\"#fdca26\"],[1.0,\"#f0f921\"]]},\"colorway\":[\"#636efa\",\"#EF553B\",\"#00cc96\",\"#ab63fa\",\"#FFA15A\",\"#19d3f3\",\"#FF6692\",\"#B6E880\",\"#FF97FF\",\"#FECB52\"],\"font\":{\"color\":\"#2a3f5f\"},\"geo\":{\"bgcolor\":\"white\",\"lakecolor\":\"white\",\"landcolor\":\"#E5ECF6\",\"showlakes\":true,\"showland\":true,\"subunitcolor\":\"white\"},\"hoverlabel\":{\"align\":\"left\"},\"hovermode\":\"closest\",\"mapbox\":{\"style\":\"light\"},\"paper_bgcolor\":\"white\",\"plot_bgcolor\":\"#E5ECF6\",\"polar\":{\"angularaxis\":{\"gridcolor\":\"white\",\"linecolor\":\"white\",\"ticks\":\"\"},\"bgcolor\":\"#E5ECF6\",\"radialaxis\":{\"gridcolor\":\"white\",\"linecolor\":\"white\",\"ticks\":\"\"}},\"scene\":{\"xaxis\":{\"backgroundcolor\":\"#E5ECF6\",\"gridcolor\":\"white\",\"gridwidth\":2,\"linecolor\":\"white\",\"showbackground\":true,\"ticks\":\"\",\"zerolinecolor\":\"white\"},\"yaxis\":{\"backgroundcolor\":\"#E5ECF6\",\"gridcolor\":\"white\",\"gridwidth\":2,\"linecolor\":\"white\",\"showbackground\":true,\"ticks\":\"\",\"zerolinecolor\":\"white\"},\"zaxis\":{\"backgroundcolor\":\"#E5ECF6\",\"gridcolor\":\"white\",\"gridwidth\":2,\"linecolor\":\"white\",\"showbackground\":true,\"ticks\":\"\",\"zerolinecolor\":\"white\"}},\"shapedefaults\":{\"line\":{\"color\":\"#2a3f5f\"}},\"ternary\":{\"aaxis\":{\"gridcolor\":\"white\",\"linecolor\":\"white\",\"ticks\":\"\"},\"baxis\":{\"gridcolor\":\"white\",\"linecolor\":\"white\",\"ticks\":\"\"},\"bgcolor\":\"#E5ECF6\",\"caxis\":{\"gridcolor\":\"white\",\"linecolor\":\"white\",\"ticks\":\"\"}},\"title\":{\"x\":0.05},\"xaxis\":{\"automargin\":true,\"gridcolor\":\"white\",\"linecolor\":\"white\",\"ticks\":\"\",\"title\":{\"standoff\":15},\"zerolinecolor\":\"white\",\"zerolinewidth\":2},\"yaxis\":{\"automargin\":true,\"gridcolor\":\"white\",\"linecolor\":\"white\",\"ticks\":\"\",\"title\":{\"standoff\":15},\"zerolinecolor\":\"white\",\"zerolinewidth\":2}}},\"scene\":{\"domain\":{\"x\":[0.0,1.0],\"y\":[0.0,1.0]},\"xaxis\":{\"title\":{\"text\":\"total_law_per_capita\"}},\"yaxis\":{\"title\":{\"text\":\"gdp_per_capita\"}},\"zaxis\":{\"title\":{\"text\":\"target\"}}},\"coloraxis\":{\"colorbar\":{\"title\":{\"text\":\"class\"}},\"colorscale\":[[0.0,\"#0d0887\"],[0.1111111111111111,\"#46039f\"],[0.2222222222222222,\"#7201a8\"],[0.3333333333333333,\"#9c179e\"],[0.4444444444444444,\"#bd3786\"],[0.5555555555555556,\"#d8576b\"],[0.6666666666666666,\"#ed7953\"],[0.7777777777777778,\"#fb9f3a\"],[0.8888888888888888,\"#fdca26\"],[1.0,\"#f0f921\"]]},\"legend\":{\"title\":{\"text\":\"class\"},\"tracegroupgap\":0,\"x\":0,\"y\":1},\"margin\":{\"t\":60},\"width\":800},                        {\"responsive\": true}                    ).then(function(){\n",
       "                            \n",
       "var gd = document.getElementById('cfa72634-5165-423f-a1bd-7ef77c3ca825');\n",
       "var x = new MutationObserver(function (mutations, observer) {{\n",
       "        var display = window.getComputedStyle(gd).display;\n",
       "        if (!display || display === 'none') {{\n",
       "            console.log([gd, 'removed!']);\n",
       "            Plotly.purge(gd);\n",
       "            observer.disconnect();\n",
       "        }}\n",
       "}});\n",
       "\n",
       "// Listen for the removal of the full notebook cells\n",
       "var notebookContainer = gd.closest('#notebook-container');\n",
       "if (notebookContainer) {{\n",
       "    x.observe(notebookContainer, {childList: true});\n",
       "}}\n",
       "\n",
       "// Listen for the clearing of the current output cell\n",
       "var outputEl = gd.closest('.output');\n",
       "if (outputEl) {{\n",
       "    x.observe(outputEl, {childList: true});\n",
       "}}\n",
       "\n",
       "                        })                };                });            </script>        </div>"
      ]
     },
     "metadata": {},
     "output_type": "display_data"
    }
   ],
   "source": [
    "# Plotting the clusters with three features\n",
    "fig = px.scatter_3d(classified_df, \n",
    "                    x=\"total_law_per_capita\", \n",
    "                    y=\"gdp_per_capita\", \n",
    "                    z=\"target\", \n",
    "                    color=\"class\", \n",
    "                    symbol=\"class\", \n",
    "#                     size=\"crime_to_pop_ratio\",\n",
    "                    width=800)\n",
    "fig.update_layout(legend=dict(x=0,y=1))\n",
    "fig.show()"
   ]
  },
  {
   "cell_type": "code",
   "execution_count": 154,
   "id": "123a0953",
   "metadata": {},
   "outputs": [
    {
     "data": {
      "text/plain": [
       "class\n",
       "0    16\n",
       "1    22\n",
       "2     3\n",
       "3     1\n",
       "4     4\n",
       "Name: target, dtype: int64"
      ]
     },
     "execution_count": 154,
     "metadata": {},
     "output_type": "execute_result"
    }
   ],
   "source": [
    "# count number of samples in each cluster\n",
    "\n",
    "classified_df.groupby('class').count()['target']"
   ]
  },
  {
   "cell_type": "markdown",
   "id": "f0b0722a",
   "metadata": {},
   "source": [
    "### buiding linear regression for each cluster"
   ]
  },
  {
   "cell_type": "code",
   "execution_count": 156,
   "id": "ed9dd0d5",
   "metadata": {},
   "outputs": [
    {
     "name": "stdout",
     "output_type": "stream",
     "text": [
      "Coefficients: \n",
      " [0.00977176 0.00789576 0.00591269]\n",
      "Intercept: \n",
      " 0.04830277189117467\n",
      "Mean squared error: 0.00\n",
      "Coefficient of determination (Rsqured): 0.07\n"
     ]
    },
    {
     "data": {
      "image/png": "[encoded data removed]",
      "text/plain": [
       "<Figure size 432x288 with 1 Axes>"
      ]
     },
     "metadata": {
      "needs_background": "light"
     },
     "output_type": "display_data"
    },
    {
     "name": "stdout",
     "output_type": "stream",
     "text": [
      "Coefficients: \n",
      " [-0.01719404  0.01626384 -0.01168917]\n",
      "Intercept: \n",
      " 0.0237878612297382\n",
      "Mean squared error: 0.00\n",
      "Coefficient of determination (Rsqured): 0.30\n"
     ]
    },
    {
     "data": {
      "image/png": "[encoded data removed]",
      "text/plain": [
       "<Figure size 432x288 with 1 Axes>"
      ]
     },
     "metadata": {
      "needs_background": "light"
     },
     "output_type": "display_data"
    },
    {
     "name": "stdout",
     "output_type": "stream",
     "text": [
      "Coefficients: \n",
      " [-0.00018485  0.03064263  0.0124053 ]\n",
      "Intercept: \n",
      " -0.02174403114303297\n",
      "Mean squared error: 0.00\n",
      "Coefficient of determination (Rsqured): 1.00\n"
     ]
    },
    {
     "data": {
      "image/png": "[encoded data removed]",
      "text/plain": [
       "<Figure size 432x288 with 1 Axes>"
      ]
     },
     "metadata": {
      "needs_background": "light"
     },
     "output_type": "display_data"
    },
    {
     "name": "stdout",
     "output_type": "stream",
     "text": [
      "Coefficients: \n",
      " [0. 0. 0.]\n",
      "Intercept: \n",
      " 0.22808564724736527\n",
      "Mean squared error: 0.00\n",
      "Coefficient of determination (Rsqured): nan\n"
     ]
    },
    {
     "name": "stderr",
     "output_type": "stream",
     "text": [
      "C:\\Users\\alexi\\.conda\\envs\\mlenv\\lib\\site-packages\\sklearn\\metrics\\_regression.py:796: UndefinedMetricWarning:\n",
      "\n",
      "R^2 score is not well-defined with less than two samples.\n",
      "\n",
      "C:\\Users\\alexi\\.conda\\envs\\mlenv\\lib\\site-packages\\sklearn\\metrics\\_regression.py:796: UndefinedMetricWarning:\n",
      "\n",
      "R^2 score is not well-defined with less than two samples.\n",
      "\n"
     ]
    },
    {
     "data": {
      "image/png": "[encoded data removed]",
      "text/plain": [
       "<Figure size 432x288 with 1 Axes>"
      ]
     },
     "metadata": {
      "needs_background": "light"
     },
     "output_type": "display_data"
    },
    {
     "name": "stdout",
     "output_type": "stream",
     "text": [
      "Coefficients: \n",
      " [-0.01328008  0.00246281 -0.01527094]\n",
      "Intercept: \n",
      " 0.0856647147937071\n",
      "Mean squared error: 0.00\n",
      "Coefficient of determination (Rsqured): 1.00\n"
     ]
    },
    {
     "data": {
      "image/png": "[encoded data removed]",
      "text/plain": [
       "<Figure size 432x288 with 1 Axes>"
      ]
     },
     "metadata": {
      "needs_background": "light"
     },
     "output_type": "display_data"
    }
   ],
   "source": [
    "from sklearn.linear_model import LinearRegression\n",
    "regr = LinearRegression()\n",
    "\n",
    "for i in range(n_cluster):\n",
    "    class_df = classified_df[classified_df['class']==i].drop('class', axis=1)\n",
    "\n",
    "    reg_X = class_df[input_columns]\n",
    "    reg_y = class_df['target']\n",
    "\n",
    "    regr.fit(reg_X, reg_y)\n",
    "\n",
    "    y_pred = regr.predict(reg_X)\n",
    "\n",
    "    # # The alpha hyperparameter\n",
    "    # print(\"Alpha hyperparameter: \", regr.alpha_)\n",
    "\n",
    "    # The coefficients\n",
    "    print(\"Coefficients: \\n\", regr.coef_)\n",
    "\n",
    "    # The Intercept\n",
    "    print(\"Intercept: \\n\", regr.intercept_)\n",
    "\n",
    "    # The mean squared error\n",
    "    print(\"Mean squared error: %.2f\" % mean_squared_error(reg_y, y_pred))\n",
    "\n",
    "    # The coefficient of determination: 1 is perfect prediction\n",
    "    print(\"Coefficient of determination (Rsqured): %.2f\" % r2_score(reg_y, y_pred))\n",
    "\n",
    "    # Plot outputs\n",
    "    plt.scatter(reg_y, y_pred, edgecolors=\"black\", marker='o', color='white')\n",
    "    plt.plot([0, 0.25], [0, 0.25], color=\"red\")\n",
    "\n",
    "    plt.title(f\"Class {i} Simple Linear: R*R=%.2f\" % r2_score(reg_y, y_pred))\n",
    "    plt.xlabel(\"Truth\")\n",
    "    plt.ylabel(\"Prediction\")\n",
    "\n",
    "    plt.show()"
   ]
  },
  {
   "cell_type": "code",
   "execution_count": 116,
   "id": "56b28e9e",
   "metadata": {},
   "outputs": [
    {
     "name": "stdout",
     "output_type": "stream",
     "text": [
      "Coefficients: \n",
      " [-0.03017904 -0.01223342  0.00573597 -0.01110044]\n",
      "Intercept: \n",
      " 0.0511899708131765\n",
      "Mean squared error: 0.00\n",
      "Coefficient of determination (Rsqured): 0.38\n"
     ]
    },
    {
     "data": {
      "image/png": "[encoded data removed]",
      "text/plain": [
       "<Figure size 432x288 with 1 Axes>"
      ]
     },
     "metadata": {
      "needs_background": "light"
     },
     "output_type": "display_data"
    }
   ],
   "source": [
    "target_class = 2\n",
    "\n",
    "class_df = classified_df[classified_df['class']==target_class].drop('class', axis=1)\n",
    "\n",
    "reg_X = class_df[input_columns]\n",
    "reg_y = class_df['target']\n",
    "\n",
    "from sklearn.linear_model import LinearRegression\n",
    "\n",
    "regr = LinearRegression()\n",
    "\n",
    "regr.fit(reg_X, reg_y)\n",
    "\n",
    "y_pred = regr.predict(reg_X)\n",
    "\n",
    "# # The alpha hyperparameter\n",
    "# print(\"Alpha hyperparameter: \", regr.alpha_)\n",
    "\n",
    "# The coefficients\n",
    "print(\"Coefficients: \\n\", regr.coef_)\n",
    "\n",
    "# The Intercept\n",
    "print(\"Intercept: \\n\", regr.intercept_)\n",
    "\n",
    "# The mean squared error\n",
    "print(\"Mean squared error: %.2f\" % mean_squared_error(reg_y, y_pred))\n",
    "\n",
    "# The coefficient of determination: 1 is perfect prediction\n",
    "print(\"Coefficient of determination (Rsqured): %.2f\" % r2_score(reg_y, y_pred))\n",
    "\n",
    "# Plot outputs\n",
    "plt.scatter(reg_y, y_pred, edgecolors=\"black\", marker='o', color='white')\n",
    "plt.plot([0, 0.25], [0, 0.25], color=\"red\")\n",
    "\n",
    "plt.title(\"Simple Linear: R*R=%.2f\" % r2_score(reg_y, y_pred))\n",
    "plt.xlabel(\"Truth\")\n",
    "plt.ylabel(\"Prediction\")\n",
    "\n",
    "plt.show()"
   ]
  },
  {
   "cell_type": "code",
   "execution_count": null,
   "id": "9f8fbe30",
   "metadata": {},
   "outputs": [],
   "source": []
  },
  {
   "cell_type": "code",
   "execution_count": null,
   "id": "e9aeb474",
   "metadata": {},
   "outputs": [],
   "source": []
  },
  {
   "cell_type": "code",
   "execution_count": null,
   "id": "e48e1d7a",
   "metadata": {},
   "outputs": [],
   "source": []
  },
  {
   "cell_type": "code",
   "execution_count": null,
   "id": "4fa8da08",
   "metadata": {},
   "outputs": [],
   "source": []
  },
  {
   "cell_type": "code",
   "execution_count": null,
   "id": "3e755fcf",
   "metadata": {},
   "outputs": [],
   "source": []
  },
  {
   "cell_type": "code",
   "execution_count": null,
   "id": "8725b901",
   "metadata": {},
   "outputs": [],
   "source": []
  },
  {
   "cell_type": "markdown",
   "id": "2fee031a",
   "metadata": {},
   "source": [
    "### Build regression model to predict \"total_crimes_per_capita\""
   ]
  },
  {
   "cell_type": "markdown",
   "id": "ce602112",
   "metadata": {},
   "source": [
    "#### Lasso cross-validation: Lasso model reduces the number of sparse (non-zero) coefficients"
   ]
  },
  {
   "cell_type": "code",
   "execution_count": 57,
   "id": "ade4543d",
   "metadata": {},
   "outputs": [
    {
     "name": "stdout",
     "output_type": "stream",
     "text": [
      "Alpha hyperparameter:  0.0007406445199726231\n",
      "Coefficients: \n",
      " [-0.00130142 -0.         -0.00741686 -0.00395421  0.02040885  0.00808848]\n",
      "Intercept: \n",
      " 0.04563048798398687\n",
      "Mean squared error: 0.00\n",
      "Coefficient of determination (Rsqured): 0.56\n"
     ]
    },
    {
     "data": {
      "image/png": "[encoded data removed]",
      "text/plain": [
       "<Figure size 432x288 with 1 Axes>"
      ]
     },
     "metadata": {
      "needs_background": "light"
     },
     "output_type": "display_data"
    }
   ],
   "source": [
    "from sklearn.linear_model import LassoCV\n",
    "from sklearn.metrics import mean_squared_error, r2_score\n",
    "\n",
    "regr = LassoCV(cv=5, random_state=0)\n",
    "regr.fit(scaled_X, y_total)\n",
    "\n",
    "y_total_pred = regr.predict(scaled_X)\n",
    "\n",
    "# The alpha hyperparameter\n",
    "print(\"Alpha hyperparameter: \", regr.alpha_)\n",
    "\n",
    "# The coefficients\n",
    "print(\"Coefficients: \\n\", regr.coef_)\n",
    "\n",
    "# The Intercept\n",
    "print(\"Intercept: \\n\", regr.intercept_)\n",
    "\n",
    "# The mean squared error\n",
    "print(\"Mean squared error: %.2f\" % mean_squared_error(y_total, y_total_pred))\n",
    "\n",
    "# The coefficient of determination: 1 is perfect prediction\n",
    "print(\"Coefficient of determination (Rsqured): %.2f\" % r2_score(y_total, y_total_pred))\n",
    "\n",
    "# Plot outputs\n",
    "plt.scatter(y_total, y_total_pred, edgecolors=\"black\", marker='o', color='white')\n",
    "plt.plot([0, 0.25], [0, 0.25], color=\"red\")\n",
    "\n",
    "plt.title(\"Elastic-Net: R*R=%.2f\" % r2_score(y_total, y_total_pred))\n",
    "plt.xlabel(\"Truth\")\n",
    "plt.ylabel(\"Prediction\")\n",
    "\n",
    "plt.show()"
   ]
  },
  {
   "cell_type": "markdown",
   "id": "6983b42f",
   "metadata": {},
   "source": [
    "#### Elastic-Net cross-validation: advantages in regularization and sparse parameters"
   ]
  },
  {
   "cell_type": "code",
   "execution_count": 70,
   "id": "95b5b2d2",
   "metadata": {},
   "outputs": [
    {
     "name": "stdout",
     "output_type": "stream",
     "text": [
      "Alpha hyperparameter:  0.0014812890399452463\n",
      "Coefficients: \n",
      " [-0.00130127 -0.         -0.00740946 -0.00394438  0.02038238  0.00809711]\n",
      "Intercept: \n",
      " 0.04563048798398687\n",
      "Mean squared error: 0.00\n",
      "Coefficient of determination (Rsqured): 0.56\n"
     ]
    },
    {
     "data": {
      "image/png": "[encoded data removed]",
      "text/plain": [
       "<Figure size 432x288 with 1 Axes>"
      ]
     },
     "metadata": {
      "needs_background": "light"
     },
     "output_type": "display_data"
    }
   ],
   "source": [
    "from sklearn.linear_model import ElasticNetCV\n",
    "\n",
    "regr = ElasticNetCV(cv=5, random_state=0)\n",
    "regr.fit(scaled_X, y_total)\n",
    "\n",
    "y_total_pred = regr.predict(scaled_X)\n",
    "\n",
    "# The alpha hyperparameter\n",
    "print(\"Alpha hyperparameter: \", regr.alpha_)\n",
    "\n",
    "# The coefficients\n",
    "print(\"Coefficients: \\n\", regr.coef_)\n",
    "\n",
    "# The Intercept\n",
    "print(\"Intercept: \\n\", regr.intercept_)\n",
    "\n",
    "# The mean squared error\n",
    "print(\"Mean squared error: %.2f\" % mean_squared_error(y_total, y_total_pred))\n",
    "\n",
    "# The coefficient of determination: 1 is perfect prediction\n",
    "print(\"Coefficient of determination (Rsqured): %.2f\" % r2_score(y_total, y_total_pred))\n",
    "\n",
    "# Plot outputs\n",
    "plt.scatter(y_total, y_total_pred, edgecolors=\"black\", marker='o', color='white')\n",
    "plt.plot([0, 0.25], [0, 0.25], color=\"red\")\n",
    "\n",
    "plt.title(\"Elastic-Net: R*R=%.2f\" % r2_score(y_total, y_total_pred))\n",
    "plt.xlabel(\"Truth\")\n",
    "plt.ylabel(\"Prediction\")\n",
    "\n",
    "plt.show()"
   ]
  },
  {
   "cell_type": "markdown",
   "id": "c169bb3a",
   "metadata": {},
   "source": [
    "#### The above two models are affected by the outlier. Try RANSAC (RANdom SAmple Consensus) and Theil-Sen estimator to exclude effect of the outlier."
   ]
  },
  {
   "cell_type": "code",
   "execution_count": 76,
   "id": "1c49d38e",
   "metadata": {
    "scrolled": true
   },
   "outputs": [
    {
     "name": "stdout",
     "output_type": "stream",
     "text": [
      "Mean squared error: 0.00\n",
      "Coefficient of determination (Rsqured): 0.32\n"
     ]
    },
    {
     "data": {
      "image/png": "[encoded data removed]",
      "text/plain": [
       "<Figure size 432x288 with 1 Axes>"
      ]
     },
     "metadata": {
      "needs_background": "light"
     },
     "output_type": "display_data"
    }
   ],
   "source": [
    "from sklearn.linear_model import RANSACRegressor\n",
    "# Robustly fit linear model with RANSAC algorithm\n",
    "ransac = RANSACRegressor()\n",
    "ransac.fit(scaled_X, y_total)\n",
    "# inlier_mask = ransac.inlier_mask_\n",
    "# outlier_mask = numpy.logical_not(inlier_mask)\n",
    "\n",
    "\n",
    "y_total_pred = ransac.predict(scaled_X)\n",
    "\n",
    "# The mean squared error\n",
    "print(\"Mean squared error: %.2f\" % mean_squared_error(y_total, y_total_pred))\n",
    "\n",
    "# The coefficient of determination: 1 is perfect prediction\n",
    "print(\"Coefficient of determination (Rsqured): %.2f\" % r2_score(y_total, y_total_pred))\n",
    "\n",
    "# Plot outputs\n",
    "plt.scatter(y_total, y_total_pred, edgecolors=\"black\", marker='o', color='white')\n",
    "plt.plot([0, 0.25], [0, 0.25], color=\"red\")\n",
    "\n",
    "plt.title(\"Elastic-Net: R*R=%.2f\" % r2_score(y_total, y_total_pred))\n",
    "plt.xlabel(\"Truth\")\n",
    "plt.ylabel(\"Prediction\")\n",
    "\n",
    "plt.show()"
   ]
  },
  {
   "cell_type": "code",
   "execution_count": 82,
   "id": "a2bdd224",
   "metadata": {
    "scrolled": true
   },
   "outputs": [
    {
     "name": "stdout",
     "output_type": "stream",
     "text": [
      "Mean squared error: 0.00\n",
      "Coefficient of determination (Rsqured): 0.35\n"
     ]
    },
    {
     "data": {
      "image/png": "[encoded data removed]",
      "text/plain": [
       "<Figure size 432x288 with 1 Axes>"
      ]
     },
     "metadata": {
      "needs_background": "light"
     },
     "output_type": "display_data"
    }
   ],
   "source": [
    "from sklearn.linear_model import TheilSenRegressor\n",
    "# Robustly fit linear model with  TheilSenRegressor algorithm\n",
    "thailsen = TheilSenRegressor(random_state=42)\n",
    "thailsen.fit(scaled_X, y_total)\n",
    "# inlier_mask = ransac.inlier_mask_\n",
    "# outlier_mask = numpy.logical_not(inlier_mask)\n",
    "\n",
    "\n",
    "y_total_pred = thailsen.predict(scaled_X)\n",
    "\n",
    "# The mean squared error\n",
    "print(\"Mean squared error: %.2f\" % mean_squared_error(y_total, y_total_pred))\n",
    "\n",
    "# The coefficient of determination: 1 is perfect prediction\n",
    "print(\"Coefficient of determination (Rsqured): %.2f\" % r2_score(y_total, y_total_pred))\n",
    "\n",
    "# Plot outputs\n",
    "plt.scatter(y_total, y_total_pred, edgecolors=\"black\", marker='o', color='white')\n",
    "plt.plot([0, 0.25], [0, 0.25], color=\"red\")\n",
    "\n",
    "plt.title(\"Elastic-Net: R*R=%.2f\" % r2_score(y_total, y_total_pred))\n",
    "plt.xlabel(\"Truth\")\n",
    "plt.ylabel(\"Prediction\")\n",
    "\n",
    "plt.show()"
   ]
  },
  {
   "cell_type": "markdown",
   "id": "b04b27ee",
   "metadata": {},
   "source": [
    "#### Neigher RANSAC (RANdom SAmple Consensus) nor Theil-Sen estimator is able to exclude the effect of the outlier."
   ]
  },
  {
   "cell_type": "markdown",
   "id": "48c8b312",
   "metadata": {},
   "source": [
    "#### Examine distribution of the crime types data"
   ]
  },
  {
   "cell_type": "code",
   "execution_count": 81,
   "id": "e90ea493",
   "metadata": {
    "scrolled": false
   },
   "outputs": [
    {
     "data": {
      "text/plain": [
       "<seaborn.axisgrid.FacetGrid at 0x29d31ea0a48>"
      ]
     },
     "execution_count": 81,
     "metadata": {},
     "output_type": "execute_result"
    },
    {
     "data": {
      "image/png": "[encoded data removed]",
      "text/plain": [
       "<Figure size 360x360 with 1 Axes>"
      ]
     },
     "metadata": {
      "needs_background": "light"
     },
     "output_type": "display_data"
    }
   ],
   "source": [
    "# examine the distribution of y_total dataset\n",
    "\n",
    "sns.displot(featured_df, \n",
    "            x=\"total_crimes_per_capita\", \n",
    "            kde=True, \n",
    "            )"
   ]
  },
  {
   "cell_type": "code",
   "execution_count": 84,
   "id": "e5b39a9f",
   "metadata": {},
   "outputs": [
    {
     "data": {
      "text/html": [
       "<div>\n",
       "<style scoped>\n",
       "    .dataframe tbody tr th:only-of-type {\n",
       "        vertical-align: middle;\n",
       "    }\n",
       "\n",
       "    .dataframe tbody tr th {\n",
       "        vertical-align: top;\n",
       "    }\n",
       "\n",
       "    .dataframe thead th {\n",
       "        text-align: right;\n",
       "    }\n",
       "</style>\n",
       "<table border=\"1\" class=\"dataframe\">\n",
       "  <thead>\n",
       "    <tr style=\"text-align: right;\">\n",
       "      <th></th>\n",
       "      <th>State</th>\n",
       "      <th>population</th>\n",
       "      <th>total_crimes_per_capita</th>\n",
       "      <th>person_crimes_per_capita</th>\n",
       "      <th>property_crimes_per_capita</th>\n",
       "      <th>society_crimes_per_capita</th>\n",
       "      <th>total_law_per_capita</th>\n",
       "      <th>male_officers_per_capita</th>\n",
       "      <th>female_officers_per_capita</th>\n",
       "      <th>gdp_per_capita</th>\n",
       "      <th>state_size_per_capita</th>\n",
       "    </tr>\n",
       "  </thead>\n",
       "  <tbody>\n",
       "    <tr>\n",
       "      <th>0</th>\n",
       "      <td>Alabama</td>\n",
       "      <td>4851203</td>\n",
       "      <td>0.003216</td>\n",
       "      <td>0.000904</td>\n",
       "      <td>0.001645</td>\n",
       "      <td>0.000667</td>\n",
       "      <td>0.003707</td>\n",
       "      <td>0.002309</td>\n",
       "      <td>0.000209</td>\n",
       "      <td>0.187085</td>\n",
       "      <td>0.010461</td>\n",
       "    </tr>\n",
       "    <tr>\n",
       "      <th>1</th>\n",
       "      <td>Arizona</td>\n",
       "      <td>7359580</td>\n",
       "      <td>0.011409</td>\n",
       "      <td>0.002506</td>\n",
       "      <td>0.006425</td>\n",
       "      <td>0.002478</td>\n",
       "      <td>0.003061</td>\n",
       "      <td>0.001537</td>\n",
       "      <td>0.000197</td>\n",
       "      <td>0.203120</td>\n",
       "      <td>0.015441</td>\n",
       "    </tr>\n",
       "    <tr>\n",
       "      <th>2</th>\n",
       "      <td>Arkansas</td>\n",
       "      <td>3011972</td>\n",
       "      <td>0.078062</td>\n",
       "      <td>0.021213</td>\n",
       "      <td>0.044990</td>\n",
       "      <td>0.011859</td>\n",
       "      <td>0.003467</td>\n",
       "      <td>0.002021</td>\n",
       "      <td>0.000240</td>\n",
       "      <td>0.173641</td>\n",
       "      <td>0.017289</td>\n",
       "    </tr>\n",
       "    <tr>\n",
       "      <th>3</th>\n",
       "      <td>Colorado</td>\n",
       "      <td>5753378</td>\n",
       "      <td>0.061377</td>\n",
       "      <td>0.011162</td>\n",
       "      <td>0.044778</td>\n",
       "      <td>0.005437</td>\n",
       "      <td>0.003277</td>\n",
       "      <td>0.001877</td>\n",
       "      <td>0.000328</td>\n",
       "      <td>0.265989</td>\n",
       "      <td>0.018029</td>\n",
       "    </tr>\n",
       "    <tr>\n",
       "      <th>4</th>\n",
       "      <td>Connecticut</td>\n",
       "      <td>3557006</td>\n",
       "      <td>0.032839</td>\n",
       "      <td>0.007825</td>\n",
       "      <td>0.021984</td>\n",
       "      <td>0.003031</td>\n",
       "      <td>0.002576</td>\n",
       "      <td>0.001916</td>\n",
       "      <td>0.000251</td>\n",
       "      <td>0.310849</td>\n",
       "      <td>0.001362</td>\n",
       "    </tr>\n",
       "  </tbody>\n",
       "</table>\n",
       "</div>"
      ],
      "text/plain": [
       "         State  population  total_crimes_per_capita  person_crimes_per_capita  \\\n",
       "0      Alabama     4851203                 0.003216                  0.000904   \n",
       "1      Arizona     7359580                 0.011409                  0.002506   \n",
       "2     Arkansas     3011972                 0.078062                  0.021213   \n",
       "3     Colorado     5753378                 0.061377                  0.011162   \n",
       "4  Connecticut     3557006                 0.032839                  0.007825   \n",
       "\n",
       "   property_crimes_per_capita  society_crimes_per_capita  \\\n",
       "0                    0.001645                   0.000667   \n",
       "1                    0.006425                   0.002478   \n",
       "2                    0.044990                   0.011859   \n",
       "3                    0.044778                   0.005437   \n",
       "4                    0.021984                   0.003031   \n",
       "\n",
       "   total_law_per_capita  male_officers_per_capita  female_officers_per_capita  \\\n",
       "0              0.003707                  0.002309                    0.000209   \n",
       "1              0.003061                  0.001537                    0.000197   \n",
       "2              0.003467                  0.002021                    0.000240   \n",
       "3              0.003277                  0.001877                    0.000328   \n",
       "4              0.002576                  0.001916                    0.000251   \n",
       "\n",
       "   gdp_per_capita  state_size_per_capita  \n",
       "0        0.187085               0.010461  \n",
       "1        0.203120               0.015441  \n",
       "2        0.173641               0.017289  \n",
       "3        0.265989               0.018029  \n",
       "4        0.310849               0.001362  "
      ]
     },
     "execution_count": 84,
     "metadata": {},
     "output_type": "execute_result"
    }
   ],
   "source": [
    "# remove the outlier from featured_df\n",
    "new_featured_df = featured_df[featured_df['total_crimes_per_capita'] < 0.2]\n",
    "new_featured_df.head()"
   ]
  },
  {
   "cell_type": "code",
   "execution_count": 86,
   "id": "b19516be",
   "metadata": {},
   "outputs": [
    {
     "name": "stdout",
     "output_type": "stream",
     "text": [
      "(45, 11)\n"
     ]
    },
    {
     "data": {
      "text/plain": [
       "<seaborn.axisgrid.FacetGrid at 0x29d318f63c8>"
      ]
     },
     "execution_count": 86,
     "metadata": {},
     "output_type": "execute_result"
    },
    {
     "data": {
      "image/png": "[encoded data removed]",
      "text/plain": [
       "<Figure size 360x360 with 1 Axes>"
      ]
     },
     "metadata": {
      "needs_background": "light"
     },
     "output_type": "display_data"
    }
   ],
   "source": [
    "print(new_featured_df.shape)\n",
    "sns.displot(new_featured_df, \n",
    "            x=\"total_crimes_per_capita\", \n",
    "            kde=True, \n",
    "            )"
   ]
  },
  {
   "cell_type": "code",
   "execution_count": 92,
   "id": "b8b2300f",
   "metadata": {},
   "outputs": [
    {
     "name": "stdout",
     "output_type": "stream",
     "text": [
      "Alpha hyperparameter:  0.004148700894021652\n",
      "Coefficients: \n",
      " [-0. -0. -0. -0.  0. -0.]\n",
      "Intercept: \n",
      " 0.04157592888924514\n",
      "Mean squared error: 0.00\n",
      "Coefficient of determination (Rsqured): 0.00\n"
     ]
    },
    {
     "data": {
      "image/png": "[encoded data removed]",
      "text/plain": [
       "<Figure size 432x288 with 1 Axes>"
      ]
     },
     "metadata": {
      "needs_background": "light"
     },
     "output_type": "display_data"
    }
   ],
   "source": [
    "# Create scaler instance\n",
    "X_scaler = StandardScaler()\n",
    "\n",
    "input_columns = ['population',\n",
    "                'total_law_per_capita',\n",
    "                'male_officers_per_capita',\n",
    "                'female_officers_per_capita',\n",
    "                'gdp_per_capita',\n",
    "                'state_size_per_capita']\n",
    "\n",
    "X = new_featured_df[input_columns]\n",
    "\n",
    "# Fit the scaler\n",
    "X_scaler.fit(X)\n",
    "\n",
    "# Scale the data\n",
    "scaled_X = X_scaler.transform(X)\n",
    "\n",
    "pd.DataFrame(scaled_X, columns=input_columns).head()\n",
    "\n",
    "y_total = new_featured_df['total_crimes_per_capita']\n",
    "y_total.shape\n",
    "\n",
    "regr = LassoCV(cv=5, random_state=0)\n",
    "regr.fit(scaled_X, y_total)\n",
    "\n",
    "y_total_pred = regr.predict(scaled_X)\n",
    "\n",
    "# The alpha hyperparameter\n",
    "print(\"Alpha hyperparameter: \", regr.alpha_)\n",
    "\n",
    "# The coefficients\n",
    "print(\"Coefficients: \\n\", regr.coef_)\n",
    "\n",
    "# The Intercept\n",
    "print(\"Intercept: \\n\", regr.intercept_)\n",
    "\n",
    "# The mean squared error\n",
    "print(\"Mean squared error: %.2f\" % mean_squared_error(y_total, y_total_pred))\n",
    "\n",
    "# The coefficient of determination: 1 is perfect prediction\n",
    "print(\"Coefficient of determination (Rsqured): %.2f\" % r2_score(y_total, y_total_pred))\n",
    "\n",
    "# Plot outputs\n",
    "plt.scatter(y_total, y_total_pred, edgecolors=\"black\", marker='o', color='white')\n",
    "plt.plot([0, 0.25], [0, 0.25], color=\"red\")\n",
    "\n",
    "plt.title(\"LassoCV: R*R=%.2f\" % r2_score(y_total, y_total_pred))\n",
    "plt.xlabel(\"Truth\")\n",
    "plt.ylabel(\"Prediction\")\n",
    "\n",
    "plt.show()"
   ]
  },
  {
   "cell_type": "code",
   "execution_count": 93,
   "id": "c01178b0",
   "metadata": {},
   "outputs": [
    {
     "name": "stdout",
     "output_type": "stream",
     "text": [
      "Alpha hyperparameter:  0.008297401788043305\n",
      "Coefficients: \n",
      " [-0. -0. -0. -0.  0. -0.]\n",
      "Intercept: \n",
      " 0.04157592888924514\n",
      "Mean squared error: 0.00\n",
      "Coefficient of determination (Rsqured): 0.00\n"
     ]
    },
    {
     "data": {
      "image/png": "[encoded data removed]",
      "text/plain": [
       "<Figure size 432x288 with 1 Axes>"
      ]
     },
     "metadata": {
      "needs_background": "light"
     },
     "output_type": "display_data"
    }
   ],
   "source": [
    "regr = ElasticNetCV(cv=5, random_state=0)\n",
    "regr.fit(scaled_X, y_total)\n",
    "\n",
    "y_total_pred = regr.predict(scaled_X)\n",
    "\n",
    "# The alpha hyperparameter\n",
    "print(\"Alpha hyperparameter: \", regr.alpha_)\n",
    "\n",
    "# The coefficients\n",
    "print(\"Coefficients: \\n\", regr.coef_)\n",
    "\n",
    "# The Intercept\n",
    "print(\"Intercept: \\n\", regr.intercept_)\n",
    "\n",
    "# The mean squared error\n",
    "print(\"Mean squared error: %.2f\" % mean_squared_error(y_total, y_total_pred))\n",
    "\n",
    "# The coefficient of determination: 1 is perfect prediction\n",
    "print(\"Coefficient of determination (Rsqured): %.2f\" % r2_score(y_total, y_total_pred))\n",
    "\n",
    "# Plot outputs\n",
    "plt.scatter(y_total, y_total_pred, edgecolors=\"black\", marker='o', color='white')\n",
    "plt.plot([0, 0.25], [0, 0.25], color=\"red\")\n",
    "\n",
    "plt.title(\"Elastic-Net: R*R=%.2f\" % r2_score(y_total, y_total_pred))\n",
    "plt.xlabel(\"Truth\")\n",
    "plt.ylabel(\"Prediction\")\n",
    "\n",
    "plt.show()"
   ]
  },
  {
   "cell_type": "code",
   "execution_count": 97,
   "id": "e416c166",
   "metadata": {},
   "outputs": [
    {
     "name": "stdout",
     "output_type": "stream",
     "text": [
      "Coefficients: \n",
      " [-0.00486148  0.01039897 -0.01255288 -0.00354855  0.00507558 -0.00450167]\n",
      "Intercept: \n",
      " 0.041575928889245155\n",
      "Mean squared error: 0.00\n",
      "Coefficient of determination (Rsqured): 0.11\n"
     ]
    },
    {
     "data": {
      "image/png": "[encoded data removed]",
      "text/plain": [
       "<Figure size 432x288 with 1 Axes>"
      ]
     },
     "metadata": {
      "needs_background": "light"
     },
     "output_type": "display_data"
    }
   ],
   "source": [
    "from sklearn.linear_model import LinearRegression\n",
    "\n",
    "regr = LinearRegression()\n",
    "\n",
    "regr.fit(scaled_X, y_total)\n",
    "regr.fit(scaled_X, y_total)\n",
    "\n",
    "y_total_pred = regr.predict(scaled_X)\n",
    "\n",
    "# # The alpha hyperparameter\n",
    "# print(\"Alpha hyperparameter: \", regr.alpha_)\n",
    "\n",
    "# The coefficients\n",
    "print(\"Coefficients: \\n\", regr.coef_)\n",
    "\n",
    "# The Intercept\n",
    "print(\"Intercept: \\n\", regr.intercept_)\n",
    "\n",
    "# The mean squared error\n",
    "print(\"Mean squared error: %.2f\" % mean_squared_error(y_total, y_total_pred))\n",
    "\n",
    "# The coefficient of determination: 1 is perfect prediction\n",
    "print(\"Coefficient of determination (Rsqured): %.2f\" % r2_score(y_total, y_total_pred))\n",
    "\n",
    "# Plot outputs\n",
    "plt.scatter(y_total, y_total_pred, edgecolors=\"black\", marker='o', color='white')\n",
    "plt.plot([0, 0.25], [0, 0.25], color=\"red\")\n",
    "\n",
    "plt.title(\"Elastic-Net: R*R=%.2f\" % r2_score(y_total, y_total_pred))\n",
    "plt.xlabel(\"Truth\")\n",
    "plt.ylabel(\"Prediction\")\n",
    "\n",
    "plt.show()"
   ]
  },
  {
   "cell_type": "code",
   "execution_count": null,
   "id": "b0487b46",
   "metadata": {},
   "outputs": [],
   "source": []
  },
  {
   "cell_type": "code",
   "execution_count": null,
   "id": "1fd8ca0d",
   "metadata": {},
   "outputs": [],
   "source": []
  },
  {
   "cell_type": "code",
   "execution_count": null,
   "id": "70b703e7",
   "metadata": {},
   "outputs": [],
   "source": []
  },
  {
   "cell_type": "code",
   "execution_count": null,
   "id": "5a502bfc",
   "metadata": {},
   "outputs": [],
   "source": []
  },
  {
   "cell_type": "code",
   "execution_count": 239,
   "id": "75102373",
   "metadata": {},
   "outputs": [],
   "source": [
    "# select a subset\n",
    "df = df_0"
   ]
  },
  {
   "cell_type": "code",
   "execution_count": 240,
   "id": "8978ee0c",
   "metadata": {},
   "outputs": [],
   "source": [
    "y = df['crime_to_pop_ratio']\n",
    "X = df.drop(['crime_to_pop_ratio'], axis=1)\n",
    "\n",
    "# Use sklearn to split dataset\n",
    "from sklearn.model_selection import train_test_split\n",
    "X_train, X_test, y_train, y_test = train_test_split(X, y, random_state=78)\n",
    "\n",
    "# Create scaler instance\n",
    "X_scaler = skl.preprocessing.StandardScaler()\n",
    "\n",
    "# Fit the scaler\n",
    "X_scaler.fit(X_train)\n",
    "\n",
    "# Scale the data\n",
    "X_train_scaled = X_scaler.transform(X_train)\n",
    "X_test_scaled = X_scaler.transform(X_test)"
   ]
  },
  {
   "cell_type": "code",
   "execution_count": 241,
   "id": "950831be",
   "metadata": {},
   "outputs": [
    {
     "data": {
      "text/plain": [
       "<AxesSubplot:>"
      ]
     },
     "execution_count": 241,
     "metadata": {},
     "output_type": "execute_result"
    },
    {
     "data": {
      "image/png": "[encoded data removed]",
      "text/plain": [
       "<Figure size 432x288 with 1 Axes>"
      ]
     },
     "metadata": {
      "needs_background": "light"
     },
     "output_type": "display_data"
    }
   ],
   "source": [
    "units = 2\n",
    "activation = 'relu'\n",
    "epochs = 700\n",
    "\n",
    "\n",
    "# Create the Keras Sequential model\n",
    "nn_model = tf.keras.models.Sequential()\n",
    "nn_model.add(tf.keras.layers.Dense(units=units, activation=activation, input_dim=4))\n",
    "# nn_model.add(tf.keras.layers.Dense(units=1, activation=\"relu\"))\n",
    "nn_model.add(tf.keras.layers.Dense(units=1))\n",
    "\n",
    "# Check the structure of the Sequential model\n",
    "# print(nn_model.summary())\n",
    "\n",
    "# Compile the Sequential model together and customize metrics\n",
    "nn_model.compile(loss=\"mean_absolute_error\", \n",
    "                 optimizer=tf.optimizers.Adam(learning_rate=0.001), \n",
    "#                  metrics=[\"MeanSquaredError\"]\n",
    "                )\n",
    "\n",
    "# Fit the model to the training data\n",
    "fit_model = nn_model.fit(X_train_scaled, y_train, epochs=epochs, verbose=0)\n",
    "\n",
    "# Create a DataFrame containing training history\n",
    "history_df = pd.DataFrame(fit_model.history, index=range(1,len(fit_model.history[\"loss\"])+1))\n",
    "\n",
    "# Plot the loss\n",
    "history_df.plot(y=\"loss\")\n"
   ]
  },
  {
   "cell_type": "code",
   "execution_count": 242,
   "id": "b802fdc4",
   "metadata": {},
   "outputs": [
    {
     "data": {
      "text/plain": [
       "Text(0.5, 1.0, 'Zoom into Diagnol')"
      ]
     },
     "execution_count": 242,
     "metadata": {},
     "output_type": "execute_result"
    },
    {
     "data": {
      "image/png": "[encoded data removed]",
      "text/plain": [
       "<Figure size 648x324 with 2 Axes>"
      ]
     },
     "metadata": {
      "needs_background": "light"
     },
     "output_type": "display_data"
    }
   ],
   "source": [
    "result = pd.DataFrame()\n",
    "result['True'] = y\n",
    "result['Predicted'] = nn_model.predict(X_scaler.transform(X))\n",
    "result.head()\n",
    "\n",
    "# compare Predicted with True\n",
    "f, (ax1, ax2) = plt.subplots(1, 2, figsize=(9, 4.5), tight_layout=True)\n",
    "ax1.scatter(result['True'],result['Predicted'])\n",
    "ax1.plot([0, 0.2], [0, 0.2], 'r')\n",
    "ax1.set_xlabel('True')\n",
    "ax1.set_ylabel('Predicted')\n",
    "ax2.scatter(result['True'], result['Predicted'])\n",
    "ax2.plot([0, 0.2], [0, 0.2], 'r')\n",
    "ax2.set_xlim(0, 0.25)\n",
    "ax2.set_ylim(0, 0.25)\n",
    "ax2.set_xlabel('True')\n",
    "ax2.set_title('Zoom into Diagnol')"
   ]
  },
  {
   "cell_type": "code",
   "execution_count": null,
   "id": "f137b09d",
   "metadata": {},
   "outputs": [],
   "source": []
  },
  {
   "cell_type": "code",
   "execution_count": null,
   "id": "af160d7f",
   "metadata": {},
   "outputs": [],
   "source": []
  }
 ],
 "metadata": {
  "kernelspec": {
   "display_name": "mlenv",
   "language": "python",
   "name": "mlenv"
  },
  "language_info": {
   "codemirror_mode": {
    "name": "ipython",
    "version": 3
   },
   "file_extension": ".py",
   "mimetype": "text/x-python",
   "name": "python",
   "nbconvert_exporter": "python",
   "pygments_lexer": "ipython3",
   "version": "3.7.11"
  }
 },
 "nbformat": 4,
 "nbformat_minor": 5
}
